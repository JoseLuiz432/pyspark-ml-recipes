{
 "cells": [
  {
   "cell_type": "markdown",
   "metadata": {},
   "source": [
    "# Naive Bayes\n",
    "\n",
    "Naive Bayes is a simple yet powerful probabilistic algorithm commonly used for classification tasks. It is based on Bayes' Theorem, which describes the probability of an event, based on prior knowledge of conditions that might be related to the event. The \"naive\" aspect of the algorithm comes from the assumption that all features are independent of each other, which simplifies the calculations but may not always hold true in real-world data.\n",
    "\n",
    "Despite its simplicity, Naive Bayes is highly effective for certain types of classification problems, especially in cases where the dimensionality of the input is high, such as text classification and spam detection.\n",
    "\n",
    "In this notebook, we will explore how to use Naive Bayes for classification problems using PySpark. Specifically, we will work with the classic Titanic dataset, which includes information about passengers and whether they survived or not. Our goal will be to build a Naive Bayes model that can predict the likelihood of survival based on features like age, gender, and passenger class. We will cover the following topics:\n",
    "\n",
    "    1. Loading and preparing the data\n",
    "    2. Training a Naive Bayes model using PySpark's MLlib library\n",
    "    3. Evaluating the model's performance using various metrics\n",
    "    4. Discussing the impact of the independence assumption and how it affects performance\n",
    "\n",
    "By the end of this notebook, you should have a solid understanding of how Naive Bayes works and how to apply it to classification problems using PySpark.\n",
    "\n",
    "### Importing necessary libraries and download dataset "
   ]
  },
  {
   "cell_type": "code",
   "execution_count": 1,
   "metadata": {},
   "outputs": [],
   "source": [
    "from pyspark.sql import SparkSession\n",
    "from pyspark.ml.feature import RFormula\n",
    "from pyspark.ml.feature import MinMaxScaler\n",
    "from pyspark.ml.classification import NaiveBayes\n",
    "from pyspark.ml import Pipeline\n",
    "from pyspark.ml.evaluation import MulticlassClassificationEvaluator"
   ]
  },
  {
   "cell_type": "code",
   "execution_count": 2,
   "metadata": {},
   "outputs": [
    {
     "name": "stderr",
     "output_type": "stream",
     "text": [
      "  % Total    % Received % Xferd  Average Speed   Time    Time     Time  Current\n",
      "                                 Dload  Upload   Total   Spent    Left  Speed\n",
      "\n",
      "  0     0    0     0    0     0      0      0 --:--:-- --:--:-- --:--:--     0\n",
      "  0     0    0     0    0     0      0      0 --:--:-- --:--:-- --:--:--     0\n",
      "  0     0    0     0    0     0      0      0 --:--:--  0:00:01 --:--:--     0\n",
      "100  4551    0  4551    0     0   1873      0 --:--:--  0:00:02 --:--:--  1875\n",
      "100  4551    0  4551    0     0   1873      0 --:--:--  0:00:02 --:--:--  1874\n"
     ]
    }
   ],
   "source": [
    "! curl https://archive.ics.uci.edu/ml/machine-learning-databases/iris/iris.data --output iris.csv"
   ]
  },
  {
   "cell_type": "code",
   "execution_count": 2,
   "metadata": {},
   "outputs": [
    {
     "name": "stdout",
     "output_type": "stream",
     "text": [
      "+------------+-----------+------------+-----------+-----------+\n",
      "|sepal_length|sepal_width|petal_length|petal_width|      class|\n",
      "+------------+-----------+------------+-----------+-----------+\n",
      "|         5.1|        3.5|         1.4|        0.2|Iris-setosa|\n",
      "|         4.9|        3.0|         1.4|        0.2|Iris-setosa|\n",
      "|         4.7|        3.2|         1.3|        0.2|Iris-setosa|\n",
      "|         4.6|        3.1|         1.5|        0.2|Iris-setosa|\n",
      "|         5.0|        3.6|         1.4|        0.2|Iris-setosa|\n",
      "+------------+-----------+------------+-----------+-----------+\n",
      "only showing top 5 rows\n",
      "\n"
     ]
    }
   ],
   "source": [
    "# create schema for easy human read \n",
    "schema_iris = 'sepal_length FLOAT, sepal_width FLOAT, petal_length FLOAT, petal_width FLOAT, class STRING'\n",
    "\n",
    "# init SparkSession\n",
    "spark = SparkSession.builder.appName('DecisionTreeClassifier').getOrCreate()\n",
    "# read the csv using pyspark\n",
    "iris = spark.read.csv('./iris.csv', schema=schema_iris, header=False)\n",
    "\n",
    "# print few lines of the dataframe\n",
    "iris.show(5)"
   ]
  },
  {
   "cell_type": "markdown",
   "metadata": {},
   "source": [
    "## Exploratory Data Analysis\n",
    "\n",
    "### Summary statistics of the dataset\n",
    "\n",
    "In this section, we will explore the iris datasets giving some statistic description like mean, std, etc."
   ]
  },
  {
   "cell_type": "code",
   "execution_count": 3,
   "metadata": {},
   "outputs": [
    {
     "name": "stdout",
     "output_type": "stream",
     "text": [
      "+-------+------------------+-------------------+------------------+------------------+\n",
      "|summary|      sepal_length|        sepal_width|      petal_length|       petal_width|\n",
      "+-------+------------------+-------------------+------------------+------------------+\n",
      "|  count|               150|                150|               150|               150|\n",
      "|   mean| 5.843333326975505| 3.0540000025431313|3.7586666552225747| 1.198666658103466|\n",
      "| stddev|0.8280661128539085|0.43359431104332985|1.7644204144315179|0.7631607319020202|\n",
      "|    min|               4.3|                2.0|               1.0|               0.1|\n",
      "|    max|               7.9|                4.4|               6.9|               2.5|\n",
      "+-------+------------------+-------------------+------------------+------------------+\n",
      "\n"
     ]
    }
   ],
   "source": [
    "iris.select('sepal_length', 'sepal_width', 'petal_length', 'petal_width').describe().show()"
   ]
  },
  {
   "cell_type": "code",
   "execution_count": 4,
   "metadata": {},
   "outputs": [
    {
     "name": "stdout",
     "output_type": "stream",
     "text": [
      "+---------------+\n",
      "|          class|\n",
      "+---------------+\n",
      "| Iris-virginica|\n",
      "|    Iris-setosa|\n",
      "|Iris-versicolor|\n",
      "+---------------+\n",
      "\n"
     ]
    }
   ],
   "source": [
    "iris.select('class').distinct().show()"
   ]
  },
  {
   "cell_type": "markdown",
   "metadata": {},
   "source": [
    "## Data Preparation\n",
    "\n",
    "### Splitting the dataset into training and testing sets"
   ]
  },
  {
   "cell_type": "code",
   "execution_count": 5,
   "metadata": {},
   "outputs": [],
   "source": [
    "train, test = iris.randomSplit([0.8, 0.2])"
   ]
  },
  {
   "cell_type": "markdown",
   "metadata": {},
   "source": [
    "### Preprocessing the data (e.g., scaling, normalization, encoding)\n",
    "\n",
    "Here we will use the RFormula to separate and treat the dataframe and the StandardScaler"
   ]
  },
  {
   "cell_type": "code",
   "execution_count": 22,
   "metadata": {},
   "outputs": [
    {
     "name": "stdout",
     "output_type": "stream",
     "text": [
      "+------------+-----------+------------+-----------+-----------+--------------------+-----+\n",
      "|sepal_length|sepal_width|petal_length|petal_width|      class|            features|label|\n",
      "+------------+-----------+------------+-----------+-----------+--------------------+-----+\n",
      "|         4.3|        3.0|         1.1|        0.1|Iris-setosa|[4.30000019073486...|  2.0|\n",
      "|         4.4|        3.0|         1.3|        0.2|Iris-setosa|[4.40000009536743...|  2.0|\n",
      "|         4.5|        2.3|         1.3|        0.3|Iris-setosa|[4.5,2.2999999523...|  2.0|\n",
      "|         4.6|        3.1|         1.5|        0.2|Iris-setosa|[4.59999990463256...|  2.0|\n",
      "|         4.6|        3.2|         1.4|        0.2|Iris-setosa|[4.59999990463256...|  2.0|\n",
      "+------------+-----------+------------+-----------+-----------+--------------------+-----+\n",
      "only showing top 5 rows\n",
      "\n"
     ]
    }
   ],
   "source": [
    "formula = RFormula(formula='class ~ .', featuresCol='features', labelCol='label')\n",
    "# only to see if everything is ok\n",
    "temp = formula.fit(train).transform(train)\n",
    "temp.show(5)"
   ]
  },
  {
   "cell_type": "code",
   "execution_count": 30,
   "metadata": {},
   "outputs": [
    {
     "name": "stdout",
     "output_type": "stream",
     "text": [
      "+------------+-----------+------------+-----------+-----------+---------------------------------------------------------------------------+-----+---------+\n",
      "|sepal_length|sepal_width|petal_length|petal_width|class      |features                                                                   |label|labelVec |\n",
      "+------------+-----------+------------+-----------+-----------+---------------------------------------------------------------------------+-----+---------+\n",
      "|4.3         |3.0        |1.1         |0.1        |Iris-setosa|[4.300000190734863,3.0,1.100000023841858,0.10000000149011612]              |2.0  |(2,[],[])|\n",
      "|4.4         |3.0        |1.3         |0.2        |Iris-setosa|[4.400000095367432,3.0,1.2999999523162842,0.20000000298023224]             |2.0  |(2,[],[])|\n",
      "|4.5         |2.3        |1.3         |0.3        |Iris-setosa|[4.5,2.299999952316284,1.2999999523162842,0.30000001192092896]             |2.0  |(2,[],[])|\n",
      "|4.6         |3.1        |1.5         |0.2        |Iris-setosa|[4.599999904632568,3.0999999046325684,1.5,0.20000000298023224]             |2.0  |(2,[],[])|\n",
      "|4.6         |3.2        |1.4         |0.2        |Iris-setosa|[4.599999904632568,3.200000047683716,1.399999976158142,0.20000000298023224]|2.0  |(2,[],[])|\n",
      "+------------+-----------+------------+-----------+-----------+---------------------------------------------------------------------------+-----+---------+\n",
      "only showing top 5 rows\n",
      "\n"
     ]
    }
   ],
   "source": [
    "# one hot encoding\n",
    "import pyspark.ml.feature as ft\n",
    "\n",
    "encoder = ft.OneHotEncoder(inputCol='label', outputCol='labelVec')\n",
    "# only to see if everything is ok\n",
    "encoder.fit(temp).transform(temp).show(5, truncate=False)"
   ]
  },
  {
   "cell_type": "code",
   "execution_count": 54,
   "metadata": {},
   "outputs": [
    {
     "name": "stdout",
     "output_type": "stream",
     "text": [
      "+----------------------------------------------------------------------------+---------------------------------------------------------------------------------+\n",
      "|features                                                                    |features_norm                                                                    |\n",
      "+----------------------------------------------------------------------------+---------------------------------------------------------------------------------+\n",
      "|[4.300000190734863,3.0,1.100000023841858,0.10000000149011612]               |[0.1,0.47499998509883945,0.11525424067846007,0.1]                                |\n",
      "|[4.400000095367432,3.0,1.2999999523162842,0.20000000298023224]              |[0.1249999768204153,0.47499998509883945,0.14576270385091258,0.13750000058207662] |\n",
      "|[4.5,2.299999952316284,1.2999999523162842,0.30000001192092896]              |[0.14999995364083063,0.21249997764825912,0.14576270385091258,0.17500000395812093]|\n",
      "|[4.599999904632568,3.0999999046325684,1.5,0.20000000298023224]              |[0.1749999304612459,0.5124999478459379,0.1762711852078327,0.13750000058207662]   |\n",
      "|[4.599999904632568,3.200000047683716,1.399999976158142,0.20000000298023224] |[0.1749999304612459,0.55,0.16101694452937265,0.13750000058207662]                |\n",
      "|[4.599999904632568,3.4000000953674316,1.399999976158142,0.30000001192092896]|[0.1749999304612459,0.6250000149011606,0.16101694452937265,0.17500000395812093]  |\n",
      "|[4.599999904632568,3.5999999046325684,1.0,0.20000000298023224]              |[0.1749999304612459,0.6999999403953576,0.1,0.13750000058207662]                  |\n",
      "|[4.699999809265137,3.200000047683716,1.2999999523162842,0.20000000298023224]|[0.19999990728166123,0.55,0.14576270385091258,0.13750000058207662]               |\n",
      "|[4.699999809265137,3.200000047683716,1.600000023841858,0.20000000298023224] |[0.19999990728166123,0.55,0.19152542588629276,0.13750000058207662]               |\n",
      "|[4.800000190734863,3.0,1.399999976158142,0.30000001192092896]               |[0.22500000331136924,0.47499998509883945,0.16101694452937265,0.17500000395812093]|\n",
      "+----------------------------------------------------------------------------+---------------------------------------------------------------------------------+\n",
      "only showing top 10 rows\n",
      "\n"
     ]
    }
   ],
   "source": [
    "# IMPORTANT only fit the scaler using the training set\n",
    "temp = formula.fit(train).transform(train)\n",
    "scaler = MinMaxScaler(inputCol='features', outputCol='features_norm', min=0.1, max=1)\n",
    "# only to see if everything is ok\n",
    "temp = scaler.fit(temp).transform(temp).select('features', 'features_norm')\n",
    "temp.show(10, truncate=False)"
   ]
  },
  {
   "cell_type": "code",
   "execution_count": 26,
   "metadata": {},
   "outputs": [],
   "source": [
    "from pyspark.ml import  Transformer\n",
    "class DropColumns(Transformer):\n",
    "    def __init__(self, columns_to_drop=None):\n",
    "        super(DropColumns, self).__init__()\n",
    "        self.columns_to_drop = columns_to_drop if columns_to_drop else []\n",
    "\n",
    "    def _transform(self, dataset):\n",
    "        return dataset.drop(*self.columns_to_drop)"
   ]
  },
  {
   "cell_type": "code",
   "execution_count": 27,
   "metadata": {},
   "outputs": [],
   "source": [
    "drop_columns = DropColumns(columns_to_drop=[\"label\"])"
   ]
  },
  {
   "cell_type": "markdown",
   "metadata": {},
   "source": [
    "## Model Training\n",
    "\n",
    "### Building a simplest Naive Bayes model"
   ]
  },
  {
   "cell_type": "code",
   "execution_count": 55,
   "metadata": {},
   "outputs": [],
   "source": [
    "nb = NaiveBayes(labelCol=\"label\", featuresCol=\"features_norm\")\n",
    "pipeline = Pipeline(stages=[formula, scaler, nb])"
   ]
  },
  {
   "cell_type": "markdown",
   "metadata": {},
   "source": [
    "### Training the model with the data"
   ]
  },
  {
   "cell_type": "code",
   "execution_count": 56,
   "metadata": {},
   "outputs": [],
   "source": [
    "model = pipeline.fit(train)"
   ]
  },
  {
   "cell_type": "markdown",
   "metadata": {},
   "source": [
    "### Evaluating the performance of the model on the test set "
   ]
  },
  {
   "cell_type": "code",
   "execution_count": 57,
   "metadata": {},
   "outputs": [
    {
     "name": "stdout",
     "output_type": "stream",
     "text": [
      "+------------+-----------+------------+-----------+---------------+--------------------+-----+--------------------+--------------------+--------------------+----------+\n",
      "|sepal_length|sepal_width|petal_length|petal_width|          class|            features|label|       features_norm|       rawPrediction|         probability|prediction|\n",
      "+------------+-----------+------------+-----------+---------------+--------------------+-----+--------------------+--------------------+--------------------+----------+\n",
      "|         4.4|        2.9|         1.4|        0.2|    Iris-setosa|[4.40000009536743...|  2.0|[0.12499997682041...|[-2.3461380595793...|[0.32493910042469...|       2.0|\n",
      "|         4.4|        3.2|         1.3|        0.2|    Iris-setosa|[4.40000009536743...|  2.0|[0.12499997682041...|[-2.5259209983273...|[0.30800492483095...|       2.0|\n",
      "|         4.8|        3.0|         1.4|        0.1|    Iris-setosa|[4.80000019073486...|  2.0|[0.22500000331136...|[-2.5078111901886...|[0.31644383218899...|       2.0|\n",
      "|         5.0|        2.3|         3.3|        1.0|Iris-versicolor|[5.0,2.2999999523...|  1.0|[0.27499995695219...|[-2.8851652120930...|[0.40514746068946...|       0.0|\n",
      "|         5.0|        3.5|         1.3|        0.3|    Iris-setosa|[5.0,3.5,1.299999...|  2.0|[0.27499995695219...|[-2.9817516617430...|[0.29725284901535...|       2.0|\n",
      "+------------+-----------+------------+-----------+---------------+--------------------+-----+--------------------+--------------------+--------------------+----------+\n",
      "only showing top 5 rows\n",
      "\n"
     ]
    }
   ],
   "source": [
    "prd = model.transform(test)\n",
    "prd.show(5)"
   ]
  },
  {
   "cell_type": "code",
   "execution_count": 58,
   "metadata": {},
   "outputs": [
    {
     "data": {
      "text/plain": [
       "0.6296296296296297"
      ]
     },
     "execution_count": 58,
     "metadata": {},
     "output_type": "execute_result"
    }
   ],
   "source": [
    "evaluator = MulticlassClassificationEvaluator(\n",
    "    labelCol=\"label\", predictionCol=\"prediction\", metricName=\"accuracy\")\n",
    "evaluator.evaluate(prd)"
   ]
  },
  {
   "cell_type": "code",
   "execution_count": 72,
   "metadata": {},
   "outputs": [],
   "source": [
    "from pyspark.ml.tuning import ParamGridBuilder\n",
    "from pyspark.ml.tuning import TrainValidationSplit\n",
    "\n",
    "dt_param_builder = (ParamGridBuilder()\n",
    "             .addGrid(nb.smoothing, [0.2, 0.4, 0.6, 0.8])\n",
    "             .addGrid(nb.modelType, ['multinomial', 'gaussian'])\n",
    "             # 3 classses\n",
    "             .addGrid(nb.thresholds, [[1/3, 1/3, 1/3], [0.1, 0.8, 0.1], [0.2, 0.6, 0.2]])\n",
    "             .build())\n",
    "pipeline = Pipeline(stages=[formula, scaler, nb])\n",
    "tvs = TrainValidationSplit(estimator=pipeline, estimatorParamMaps=dt_param_builder, evaluator=evaluator, trainRatio=0.9)"
   ]
  },
  {
   "cell_type": "code",
   "execution_count": 73,
   "metadata": {},
   "outputs": [],
   "source": [
    "model2 = tvs.fit(train)"
   ]
  },
  {
   "cell_type": "code",
   "execution_count": 74,
   "metadata": {},
   "outputs": [
    {
     "name": "stdout",
     "output_type": "stream",
     "text": [
      "+------------+-----------+------------+-----------+---------------+--------------------+-----+--------------------+--------------------+--------------------+----------+\n",
      "|sepal_length|sepal_width|petal_length|petal_width|          class|            features|label|       features_norm|       rawPrediction|         probability|prediction|\n",
      "+------------+-----------+------------+-----------+---------------+--------------------+-----+--------------------+--------------------+--------------------+----------+\n",
      "|         4.4|        2.9|         1.4|        0.2|    Iris-setosa|[4.40000009536743...|  2.0|[0.12499997682041...|[-2.3491686895011...|[0.32513340046125...|       2.0|\n",
      "|         4.4|        3.2|         1.3|        0.2|    Iris-setosa|[4.40000009536743...|  2.0|[0.12499997682041...|[-2.5303882159523...|[0.30748110307116...|       2.0|\n",
      "|         4.8|        3.0|         1.4|        0.1|    Iris-setosa|[4.80000019073486...|  2.0|[0.22500000331136...|[-2.5115213988417...|[0.31620324575742...|       2.0|\n",
      "|         5.0|        2.3|         3.3|        1.0|Iris-versicolor|[5.0,2.2999999523...|  1.0|[0.27499995695219...|[-2.8832669191287...|[0.40952815554151...|       0.0|\n",
      "|         5.0|        3.5|         1.3|        0.3|    Iris-setosa|[5.0,3.5,1.299999...|  2.0|[0.27499995695219...|[-2.9875418455179...|[0.29650127223582...|       2.0|\n",
      "+------------+-----------+------------+-----------+---------------+--------------------+-----+--------------------+--------------------+--------------------+----------+\n",
      "only showing top 5 rows\n",
      "\n"
     ]
    }
   ],
   "source": [
    "prd2 = model2.transform(test)\n",
    "prd2.show(5)"
   ]
  },
  {
   "cell_type": "code",
   "execution_count": 75,
   "metadata": {},
   "outputs": [
    {
     "data": {
      "text/plain": [
       "0.6296296296296297"
      ]
     },
     "execution_count": 75,
     "metadata": {},
     "output_type": "execute_result"
    }
   ],
   "source": [
    "evaluator.evaluate(prd2)"
   ]
  },
  {
   "cell_type": "code",
   "execution_count": 76,
   "metadata": {},
   "outputs": [
    {
     "data": {
      "image/png": "[encoded data removed]",
      "text/plain": [
       "<Figure size 640x480 with 2 Axes>"
      ]
     },
     "metadata": {},
     "output_type": "display_data"
    }
   ],
   "source": [
    "from sklearn import metrics\n",
    "import matplotlib.pyplot as plt\n",
    "\n",
    "df_prd = prd.select('label', 'prediction').toPandas()\n",
    "cm = metrics.confusion_matrix(df_prd['label'], df_prd['prediction'])\n",
    "cm_display = metrics.ConfusionMatrixDisplay(confusion_matrix = cm, display_labels=['SETOSA','VERSICOLR','VIRGINICA'])\n",
    "cm_display.plot()\n",
    "plt.show()"
   ]
  },
  {
   "cell_type": "code",
   "execution_count": null,
   "metadata": {},
   "outputs": [],
   "source": []
  }
 ],
 "metadata": {
  "kernelspec": {
   "display_name": "venv",
   "language": "python",
   "name": "python3"
  },
  "language_info": {
   "codemirror_mode": {
    "name": "ipython",
    "version": 3
   },
   "file_extension": ".py",
   "mimetype": "text/x-python",
   "name": "python",
   "nbconvert_exporter": "python",
   "pygments_lexer": "ipython3",
   "version": "3.12.7"
  }
 },
 "nbformat": 4,
 "nbformat_minor": 2
}
