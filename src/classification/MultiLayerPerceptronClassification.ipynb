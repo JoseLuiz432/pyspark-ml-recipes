{
 "cells": [
  {
   "cell_type": "markdown",
   "id": "4d048734-8c44-4b9d-89c3-9b86d81a8ca8",
   "metadata": {},
   "source": [
    "# MultiLayer Perceptron\n",
    "\n",
    "MultiLayer Perceptron (MLP) is a popular neural network algorithm used for classification problems. MLPs consist of multiple layers of interconnected nodes, where each node in a layer is connected to all the nodes in the previous layer. MLPs can handle complex non-linear relationships between features and the target variable, making them a popular choice for classification tasks.\n",
    "\n",
    "In this notebook, we will explore how to use MLP for classification problems using PySpark. Specifically, we will use the famous Iris dataset, which contains information about the physical characteristics of three different types of iris flowers, to build an MLP model that can predict the type of iris flower based on its features. We will cover the following topics:\n",
    "\n",
    "Loading and preparing the data\n",
    "Training an MLP model using PySpark's MLlib library\n",
    "Evaluating the model's performance using various metrics\n",
    "Tuning the model's hyperparameters to improve its performance\n",
    "By the end of this notebook, you should have a good understanding of how MLP works and how to apply it to real-world classification problems using PySpark."
   ]
  },
  {
   "cell_type": "markdown",
   "id": "206e3a05-11f1-48ac-bc78-f5d4cc698dd2",
   "metadata": {},
   "source": [
    "## Introduction\n",
    "\n",
    "The Wine dataset is a classic machine learning dataset that contains the results of a chemical analysis of wines grown in a specific area of Italy. The dataset consists of 178 samples, each representing a different wine. The chemical analysis determined the quantities of 13 constituents found in each of the three types of wines: \"Class 0\" (59 samples), \"Class 1\" (71 samples), and \"Class 2\" (48 samples). The attributes of the wine include things like alcohol content, malic acid, ash, and color intensity. This dataset is commonly used for classification problems and has been extensively studied in the machine learning literature.\n",
    "\n",
    "### Importing necessery libraries and download the dataset\n",
    "\n",
    "In this section, we will import the required libraries and download the Wine dataset.\n",
    "\n",
    "#### Importing Libraries\n",
    "We will begin by importing the necessary libraries required for our analysis. These include:\n",
    "\n",
    "- SparkSession: used for start and mantain a spark session\n",
    "- RFormula: used for transform the dataset in something meaninful to spark\n",
    "- StandardScaler: used for scaler the dataset\n",
    "- GBT: used for construct the model\n",
    "- Pipeline: used for create a pipeline\n",
    "- skelearn: only used here to easy create a confusion matrix\n",
    "- ParamGridBuilder: used for tuning the hyperparams of the model\n",
    "- TrainValidationSplit: used for crossvalidation and select best hyperparams\n",
    "- matplotlib: used for data visualization"
   ]
  },
  {
   "cell_type": "code",
   "execution_count": 1,
   "id": "224ff7fa-cc30-4233-82cf-d63a00112a4b",
   "metadata": {
    "tags": []
   },
   "outputs": [],
   "source": [
    "from pyspark.sql import SparkSession\n",
    "from pyspark.ml.feature import VectorAssembler\n",
    "from pyspark.ml.feature import StandardScaler, MinMaxScaler\n",
    "from pyspark.ml.classification import MultilayerPerceptronClassifier\n",
    "from pyspark.ml import Pipeline\n",
    "from pyspark.ml.evaluation import MulticlassClassificationEvaluator\n",
    "import matplotlib.pyplot as plt\n",
    "from sklearn import metrics\n",
    "from pyspark.ml.tuning import ParamGridBuilder\n",
    "from pyspark.ml.tuning import TrainValidationSplit\n",
    "from pyspark.sql.functions import when"
   ]
  },
  {
   "cell_type": "markdown",
   "id": "ad8263b5-9897-4929-bb47-ccc6a5e274d2",
   "metadata": {},
   "source": [
    "#### Downloading the Wine dataset\n",
    "Next, we will download the Wine dataset using the curl command. The dataset is available in a CSV format.\n",
    "\n",
    "Each column represents the following information:\n",
    "\n",
    "1. alcohol: the percentage of alcohol content in the wine\n",
    "2. malic_acid: the amount of malic acid in the wine\n",
    "3. ash: the amount of ash in the wine\n",
    "4. alcalinity_of_ash: the level of alkalinity of ash in the wine\n",
    "5. magnesium: the amount of magnesium in the wine\n",
    "6. total_phenols: the total amount of phenols in the wine\n",
    "7. flavanoids: the amount of flavonoids in the wine\n",
    "8. nonflavanoid_phenols: the total amount of non-flavonoid phenols in the wine\n",
    "9. proanthocyanins: the amount of proanthocyanins in the wine\n",
    "10. color_intensity: the intensity of color in the wine\n",
    "11. hue: the hue of the wine\n",
    "12. od280/od315_of_diluted_wines: the OD280/OD315 ratio of the diluted wines\n",
    "13. proline: the amount of proline in the wine\n",
    "\n",
    "The target variable is the class column, which represents the class of the wine. There are three classes of wine in this dataset:\n",
    "\n",
    "- class_0: Wine produced in the region of Barolo in Italy\n",
    "- class_1: Wine produced in the region of Grignolino d'Asti in Italy\n",
    "- class_2: Wine produced in the region of Barbera in Italy"
   ]
  },
  {
   "cell_type": "code",
   "execution_count": null,
   "id": "6e579deb-3cc0-4824-8c6e-d77c71953268",
   "metadata": {},
   "outputs": [],
   "source": [
    "! curl https://archive.ics.uci.edu/ml/machine-learning-databases/wine/wine.data -o wine.csv"
   ]
  },
  {
   "cell_type": "code",
   "execution_count": 2,
   "id": "db61e3e4-4377-40c9-a61e-2dc1d863b471",
   "metadata": {
    "tags": []
   },
   "outputs": [
    {
     "name": "stdout",
     "output_type": "stream",
     "text": [
      "+-----+-------+----------+----+----------+---------+-------------+----------+--------------------+---------------+---------------+----+----+-------+\n",
      "|class|alcohol|malic_acid| ash|alcalinity|magnesium|total_phenols|flavanoids|nonflavanoid_phenols|proanthocyanins|color_intensity| hue|  od|proline|\n",
      "+-----+-------+----------+----+----------+---------+-------------+----------+--------------------+---------------+---------------+----+----+-------+\n",
      "|    1|  14.23|      1.71|2.43|      15.6|    127.0|          2.8|      3.06|                0.28|           2.29|           5.64|1.04|3.92| 1065.0|\n",
      "|    1|   13.2|      1.78|2.14|      11.2|    100.0|         2.65|      2.76|                0.26|           1.28|           4.38|1.05| 3.4| 1050.0|\n",
      "|    1|  13.16|      2.36|2.67|      18.6|    101.0|          2.8|      3.24|                 0.3|           2.81|           5.68|1.03|3.17| 1185.0|\n",
      "|    1|  14.37|      1.95| 2.5|      16.8|    113.0|         3.85|      3.49|                0.24|           2.18|            7.8|0.86|3.45| 1480.0|\n",
      "|    1|  13.24|      2.59|2.87|      21.0|    118.0|          2.8|      2.69|                0.39|           1.82|           4.32|1.04|2.93|  735.0|\n",
      "+-----+-------+----------+----+----------+---------+-------------+----------+--------------------+---------------+---------------+----+----+-------+\n",
      "only showing top 5 rows\n",
      "\n"
     ]
    }
   ],
   "source": [
    "schema = 'class INT, alcohol FLOAT, malic_acid FLOAT, ash FLOAT, alcalinity FLOAT, magnesium FLOAT, total_phenols FLOAT, flavanoids FLOAT, nonflavanoid_phenols FLOAT, proanthocyanins FLOAT, color_intensity FLOAT, hue FLOAT, od FLOAT, proline FLOAT'\n",
    "# init SparkSession\n",
    "spark = SparkSession.builder.appName('MLPClassifier').getOrCreate()\n",
    "# read the csv using pyspark\n",
    "wine = spark.read.csv('./wine.csv', schema=schema, header=False)\n",
    "\n",
    "# print few lines of the dataframe\n",
    "wine.show(5)"
   ]
  },
  {
   "cell_type": "markdown",
   "id": "030b5558-a0e4-49ae-a47c-d7725863d2bf",
   "metadata": {},
   "source": [
    "## Exploratory Data Analysis\n",
    "\n",
    "### Summary statistics of the dataset\n",
    "\n",
    "In this section, we will explore the iris datasets giving some statistic description like mean, std, etc."
   ]
  },
  {
   "cell_type": "code",
   "execution_count": 3,
   "id": "08d2da23-7109-46b0-ad5a-f410bdb7df40",
   "metadata": {
    "tags": []
   },
   "outputs": [
    {
     "name": "stdout",
     "output_type": "stream",
     "text": [
      "+-------+-------+----------+-----+----------+---------+-------------+----------+--------------------+---------------+---------------+-----+-----+-------+\n",
      "|summary|alcohol|malic_acid|  ash|alcalinity|magnesium|total_phenols|flavanoids|nonflavanoid_phenols|proanthocyanins|color_intensity|  hue|   od|proline|\n",
      "+-------+-------+----------+-----+----------+---------+-------------+----------+--------------------+---------------+---------------+-----+-----+-------+\n",
      "|  count|  178.0|     178.0|178.0|     178.0|    178.0|        178.0|     178.0|               178.0|          178.0|          178.0|178.0|178.0|  178.0|\n",
      "|   mean|   13.0|      2.34| 2.37|     19.49|    99.74|          2.3|      2.03|                0.36|           1.59|           5.06| 0.96| 2.61| 746.89|\n",
      "| stddev|   0.81|      1.12| 0.27|      3.34|    14.28|         0.63|       1.0|                0.12|           0.57|           2.32| 0.23| 0.71| 314.91|\n",
      "|    min|  11.03|      0.74| 1.36|      10.6|     70.0|         0.98|      0.34|                0.13|           0.41|           1.28| 0.48| 1.27|  278.0|\n",
      "|    max|  14.83|       5.8| 3.23|      30.0|    162.0|         3.88|      5.08|                0.66|           3.58|           13.0| 1.71|  4.0| 1680.0|\n",
      "+-------+-------+----------+-----+----------+---------+-------------+----------+--------------------+---------------+---------------+-----+-----+-------+\n",
      "\n"
     ]
    }
   ],
   "source": [
    "from pyspark.sql.functions import round\n",
    "temp = wine.drop('class')\n",
    "temp.describe().select(['summary'] + [round(c, 2).alias(c) for c in temp.columns]).show()"
   ]
  },
  {
   "cell_type": "code",
   "execution_count": 4,
   "id": "27e22efb-5f89-499a-98ad-dc7cea5f4e98",
   "metadata": {
    "tags": []
   },
   "outputs": [
    {
     "data": {
      "text/plain": [
       "13"
      ]
     },
     "execution_count": 4,
     "metadata": {},
     "output_type": "execute_result"
    }
   ],
   "source": [
    "n_features = len(temp.columns)\n",
    "n_features"
   ]
  },
  {
   "cell_type": "code",
   "execution_count": 5,
   "id": "455dd92f-4a92-45bd-8c89-c242fd126bd2",
   "metadata": {
    "tags": []
   },
   "outputs": [
    {
     "data": {
      "text/plain": [
       "3"
      ]
     },
     "execution_count": 5,
     "metadata": {},
     "output_type": "execute_result"
    }
   ],
   "source": [
    "from pyspark.sql.functions import countDistinct\n",
    "n_classes = wine.select(countDistinct('class')).collect()[0][0]\n",
    "n_classes"
   ]
  },
  {
   "cell_type": "code",
   "execution_count": 6,
   "id": "55933e65-6698-414f-a81e-9c25842c22f6",
   "metadata": {
    "tags": []
   },
   "outputs": [
    {
     "name": "stdout",
     "output_type": "stream",
     "text": [
      "+-----+\n",
      "|class|\n",
      "+-----+\n",
      "|    1|\n",
      "|    3|\n",
      "|    2|\n",
      "+-----+\n",
      "\n"
     ]
    }
   ],
   "source": [
    "wine.select('class').distinct().show()"
   ]
  },
  {
   "cell_type": "code",
   "execution_count": 7,
   "id": "66c02dba-7ced-47eb-987d-c67ddd205377",
   "metadata": {
    "tags": []
   },
   "outputs": [],
   "source": [
    "# in order to use theses classes we need to map the class to 1->0, 2->1 and 3->2\n",
    "from pyspark.sql.functions import col\n",
    "wine = wine.withColumn(\"class_mapped\", col('class') - 1)"
   ]
  },
  {
   "cell_type": "markdown",
   "id": "20d3d720-4792-4977-b22b-55c32147017b",
   "metadata": {},
   "source": [
    "### Preprocessing the data (e.g., scaling, normalization, encoding)\n",
    "\n",
    "Here we will use the RFormula to separate and treat the dataframe and the MinMaxScaller"
   ]
  },
  {
   "cell_type": "code",
   "execution_count": 10,
   "id": "26d12b99-cc34-44d1-a140-0a470fb0e42f",
   "metadata": {
    "tags": []
   },
   "outputs": [],
   "source": [
    "train, test = wine.randomSplit([0.8, 0.2])"
   ]
  },
  {
   "cell_type": "code",
   "execution_count": 11,
   "id": "60a16111-6b8e-4cb9-81a8-66aaaa3020ea",
   "metadata": {
    "tags": []
   },
   "outputs": [
    {
     "name": "stdout",
     "output_type": "stream",
     "text": [
      "+--------------------+------------+\n",
      "|            features|class_mapped|\n",
      "+--------------------+------------+\n",
      "|[12.8500003814697...|           0|\n",
      "|[12.9300003051757...|           0|\n",
      "|[13.0500001907348...|           0|\n",
      "|[13.0500001907348...|           0|\n",
      "|[13.0500001907348...|           0|\n",
      "+--------------------+------------+\n",
      "only showing top 5 rows\n",
      "\n"
     ]
    }
   ],
   "source": [
    "# we need to remember to remove the class from features with - class \n",
    "temp = wine.drop('class', 'class_mapped')\n",
    "assembler = VectorAssembler(inputCols=temp.columns, outputCol='features')\n",
    "# only to see if everything is ok\n",
    "assembler.transform(train).select('features', 'class_mapped').show(5)"
   ]
  },
  {
   "cell_type": "code",
   "execution_count": 13,
   "id": "9e49abbb-f23f-408c-8e1f-85ba45220bd2",
   "metadata": {
    "tags": []
   },
   "outputs": [
    {
     "name": "stdout",
     "output_type": "stream",
     "text": [
      "+--------------------+--------------------+\n",
      "|            features|      scaledFeatures|\n",
      "+--------------------+--------------------+\n",
      "|[12.8500003814697...|[16.4588799412302...|\n",
      "|[12.9300003051757...|[16.5613475755102...|\n",
      "|[13.0500001907348...|[16.7150490269301...|\n",
      "|[13.0500001907348...|[16.7150490269301...|\n",
      "|[13.0500001907348...|[16.7150490269301...|\n",
      "+--------------------+--------------------+\n",
      "only showing top 5 rows\n",
      "\n"
     ]
    }
   ],
   "source": [
    "temp = assembler.transform(train)\n",
    "scaler = StandardScaler(inputCol='features', outputCol='scaledFeatures', )\n",
    "# only to see if everything is ok\n",
    "scaler.fit(temp).transform(temp).select('features', 'scaledFeatures').show(5)"
   ]
  },
  {
   "cell_type": "markdown",
   "id": "bd757ad5-8d59-445e-b721-c649ccd067dd",
   "metadata": {},
   "source": [
    "## Model Training\n",
    " Here we will build the model and create the pipeline that will be trained\n",
    " \n",
    "### Building a MLP Classifier"
   ]
  },
  {
   "cell_type": "code",
   "execution_count": 15,
   "id": "8550fe42-98ef-4fdc-aaad-cbe40c798a7a",
   "metadata": {
    "tags": []
   },
   "outputs": [],
   "source": [
    "layers = [n_features, 100, n_classes]\n",
    "mlp = MultilayerPerceptronClassifier(labelCol=\"class_mapped\", featuresCol=\"features\", layers=layers)\n",
    "pipeline = Pipeline(stages=[assembler, scaler, mlp])"
   ]
  },
  {
   "cell_type": "markdown",
   "id": "9969604e-1802-4672-853b-530a92966bd7",
   "metadata": {},
   "source": [
    "### Training the model on the training set"
   ]
  },
  {
   "cell_type": "code",
   "execution_count": 16,
   "id": "ac98a44e-2935-40b9-87b2-a5cc7c592cef",
   "metadata": {
    "tags": []
   },
   "outputs": [],
   "source": [
    "model = pipeline.fit(train)"
   ]
  },
  {
   "cell_type": "code",
   "execution_count": 27,
   "id": "e69ca823-0a0f-4ad9-a3d6-551821a0d155",
   "metadata": {
    "tags": []
   },
   "outputs": [
    {
     "data": {
      "image/png": "[encoded data removed]",
      "text/plain": [
       "<Figure size 640x480 with 1 Axes>"
      ]
     },
     "metadata": {},
     "output_type": "display_data"
    }
   ],
   "source": [
    "import matplotlib.pyplot as plt\n",
    "# extract the loss history\n",
    "loss_history = model.stages[-1].summary().objectiveHistory\n",
    "\n",
    "# plot the loss history\n",
    "plt.plot(loss_history)\n",
    "plt.title(\"Training Loss\")\n",
    "plt.xlabel(\"Iteration\")\n",
    "plt.ylabel(\"Loss\")\n",
    "plt.show()"
   ]
  },
  {
   "cell_type": "markdown",
   "id": "382e5021-7749-4339-a120-86b3cbd0699d",
   "metadata": {},
   "source": [
    "### Evaluating the performance of the model"
   ]
  },
  {
   "cell_type": "code",
   "execution_count": 19,
   "id": "650217c2-a4ab-453a-8e3c-0f0358e4a3c5",
   "metadata": {
    "tags": []
   },
   "outputs": [
    {
     "name": "stdout",
     "output_type": "stream",
     "text": [
      "Accuracy = 0.918918918918919\n",
      "F1 score = 0.9183878615457561\n"
     ]
    }
   ],
   "source": [
    "prd = model.transform(test)\n",
    "\n",
    "evaluator = MulticlassClassificationEvaluator(labelCol='class_mapped', metricName='accuracy')\n",
    "\n",
    "# Area under precision-recall curve\n",
    "print(\"Accuracy = %s\" % evaluator.evaluate(prd, {evaluator.metricName: \"accuracy\"}))\n",
    "\n",
    "# Area under ROC curve\n",
    "print(\"F1 score = %s\" % evaluator.evaluate(prd, {evaluator.metricName: \"f1\"}))"
   ]
  },
  {
   "cell_type": "markdown",
   "id": "aa5046b0-5552-4126-aadd-06820c95921d",
   "metadata": {},
   "source": [
    "## Model Tuning and Interpretation\n",
    "\n",
    "Fine-tuning the model (e.g., hyperparameter tuning)"
   ]
  },
  {
   "cell_type": "code",
   "execution_count": 28,
   "id": "9b074cfa-46e3-45fd-a00d-9ba20472f2a5",
   "metadata": {
    "tags": []
   },
   "outputs": [],
   "source": [
    "param_grid = ParamGridBuilder() \\\n",
    "    .addGrid(mlp.layers, [[13, 20, 20, 3], [13, 50, 3], [13, 25, 10, 3]]) \\\n",
    "    .addGrid(mlp.blockSize, [64, 128]) \\\n",
    "    .addGrid(mlp.maxIter, [50, 100, 200]) \\\n",
    "    .addGrid(mlp.solver, ['l-bfgs', 'gd']) \\\n",
    "    .build()\n",
    "pipeline = Pipeline(stages=[assembler, scaler, mlp])\n",
    "tvs = TrainValidationSplit(estimator=pipeline, estimatorParamMaps=param_grid, evaluator=evaluator, trainRatio=0.8)"
   ]
  },
  {
   "cell_type": "code",
   "execution_count": 29,
   "id": "1086b50e-15a6-4908-b8f0-d2900046e254",
   "metadata": {
    "tags": []
   },
   "outputs": [
    {
     "name": "stdout",
     "output_type": "stream",
     "text": [
      "+----------+------------+\n",
      "|prediction|class_mapped|\n",
      "+----------+------------+\n",
      "|       0.0|           0|\n",
      "|       2.0|           0|\n",
      "|       0.0|           0|\n",
      "|       0.0|           0|\n",
      "|       0.0|           0|\n",
      "+----------+------------+\n",
      "only showing top 5 rows\n",
      "\n"
     ]
    }
   ],
   "source": [
    "model2 = tvs.fit(train)\n",
    "prd2 = model2.transform(test)\n",
    "prd2.select('prediction', 'class_mapped').show(5)"
   ]
  },
  {
   "cell_type": "code",
   "execution_count": 35,
   "id": "107d2351-0b5d-4d3f-bb16-11794a4d3f67",
   "metadata": {
    "tags": []
   },
   "outputs": [
    {
     "data": {
      "text/plain": [
       "{Param(parent='MultilayerPerceptronClassifier_c3c8cf7290e3', name='blockSize', doc='block size for stacking input data in matrices. Data is stacked within partitions. If block size is more than remaining data in a partition then it is adjusted to the size of this data.'): 64,\n",
       " Param(parent='MultilayerPerceptronClassifier_c3c8cf7290e3', name='featuresCol', doc='features column name.'): 'features',\n",
       " Param(parent='MultilayerPerceptronClassifier_c3c8cf7290e3', name='labelCol', doc='label column name.'): 'class_mapped',\n",
       " Param(parent='MultilayerPerceptronClassifier_c3c8cf7290e3', name='maxIter', doc='max number of iterations (>= 0).'): 200,\n",
       " Param(parent='MultilayerPerceptronClassifier_c3c8cf7290e3', name='predictionCol', doc='prediction column name.'): 'prediction',\n",
       " Param(parent='MultilayerPerceptronClassifier_c3c8cf7290e3', name='probabilityCol', doc='Column name for predicted class conditional probabilities. Note: Not all models output well-calibrated probability estimates! These probabilities should be treated as confidences, not precise probabilities.'): 'probability',\n",
       " Param(parent='MultilayerPerceptronClassifier_c3c8cf7290e3', name='rawPredictionCol', doc='raw prediction (a.k.a. confidence) column name.'): 'rawPrediction',\n",
       " Param(parent='MultilayerPerceptronClassifier_c3c8cf7290e3', name='seed', doc='random seed.'): -8270844021653947306,\n",
       " Param(parent='MultilayerPerceptronClassifier_c3c8cf7290e3', name='solver', doc='The solver algorithm for optimization. Supported options: l-bfgs, gd.'): 'l-bfgs',\n",
       " Param(parent='MultilayerPerceptronClassifier_c3c8cf7290e3', name='stepSize', doc='Step size to be used for each iteration of optimization (>= 0).'): 0.03,\n",
       " Param(parent='MultilayerPerceptronClassifier_c3c8cf7290e3', name='tol', doc='the convergence tolerance for iterative algorithms (>= 0).'): 1e-06,\n",
       " Param(parent='MultilayerPerceptronClassifier_c3c8cf7290e3', name='layers', doc='Sizes of layers from input layer to output layer E.g., Array(780, 100, 10) means 780 inputs, one hidden layer with 100 neurons and output layer of 10 neurons.'): [13,\n",
       "  50,\n",
       "  3]}"
      ]
     },
     "execution_count": 35,
     "metadata": {},
     "output_type": "execute_result"
    }
   ],
   "source": [
    "# get the best model\n",
    "bestModel = model2.bestModel\n",
    "\n",
    "# get the best hyperparameters\n",
    "bestParams = bestModel.stages[-1].extractParamMap()\n",
    "bestParams"
   ]
  },
  {
   "cell_type": "code",
   "execution_count": 36,
   "id": "78d25a0f-3b15-4ff5-b32f-bf6072e95b91",
   "metadata": {
    "tags": []
   },
   "outputs": [
    {
     "data": {
      "image/png": "[encoded data removed]",
      "text/plain": [
       "<Figure size 640x480 with 1 Axes>"
      ]
     },
     "metadata": {},
     "output_type": "display_data"
    }
   ],
   "source": [
    "# extract the loss history\n",
    "loss_history = bestModel.stages[-1].summary().objectiveHistory\n",
    "\n",
    "# plot the loss history\n",
    "plt.plot(loss_history)\n",
    "plt.title(\"Training Loss\")\n",
    "plt.xlabel(\"Iteration\")\n",
    "plt.ylabel(\"Loss\")\n",
    "plt.show()"
   ]
  },
  {
   "cell_type": "code",
   "execution_count": 37,
   "id": "ca96f3ce-e23d-44a6-83a1-62f86149f8c8",
   "metadata": {
    "tags": []
   },
   "outputs": [
    {
     "name": "stdout",
     "output_type": "stream",
     "text": [
      "Accuracy = 0.918918918918919\n",
      "F1 score = 0.9183878615457561\n"
     ]
    }
   ],
   "source": [
    "prd = model.transform(test)\n",
    "\n",
    "evaluator = MulticlassClassificationEvaluator(labelCol='class_mapped', metricName='accuracy')\n",
    "\n",
    "# Area under precision-recall curve\n",
    "print(\"Accuracy = %s\" % evaluator.evaluate(prd, {evaluator.metricName: \"accuracy\"}))\n",
    "\n",
    "# Area under ROC curve\n",
    "print(\"F1 score = %s\" % evaluator.evaluate(prd, {evaluator.metricName: \"f1\"}))"
   ]
  },
  {
   "cell_type": "code",
   "execution_count": 40,
   "id": "fcafd6e4-29a4-4ffd-9d2d-a7268fb73022",
   "metadata": {
    "tags": []
   },
   "outputs": [
    {
     "data": {
      "image/png": "[encoded data removed]",
      "text/plain": [
       "<Figure size 640x480 with 2 Axes>"
      ]
     },
     "metadata": {},
     "output_type": "display_data"
    }
   ],
   "source": [
    "from sklearn import metrics\n",
    "# - class_0: Wine produced in the region of Barolo in Italy\n",
    "# - class_1: Wine produced in the region of Grignolino d'Asti in Italy\n",
    "# - class_2: Wine produced in the region of Barbera in Italy \n",
    "df_prd = prd.select('class_mapped', 'prediction').toPandas()\n",
    "cm = metrics.confusion_matrix(df_prd['class_mapped'], df_prd['prediction'])\n",
    "cm_display = metrics.ConfusionMatrixDisplay(confusion_matrix = cm, display_labels=['Barolo', 'Grignolino', 'Barbera'])\n",
    "cm_display.plot()\n",
    "plt.show()"
   ]
  },
  {
   "cell_type": "code",
   "execution_count": 41,
   "id": "0edea54a-0b7b-4c0f-93b2-9ddac112e392",
   "metadata": {
    "tags": []
   },
   "outputs": [
    {
     "data": {
      "image/png": "[encoded data removed]",
      "text/plain": [
       "<Figure size 640x480 with 2 Axes>"
      ]
     },
     "metadata": {},
     "output_type": "display_data"
    }
   ],
   "source": [
    "df_prd2 = prd2.select('class_mapped', 'prediction').toPandas()\n",
    "cm = metrics.confusion_matrix(df_prd2['class_mapped'], df_prd2['prediction'])\n",
    "cm_display = metrics.ConfusionMatrixDisplay(confusion_matrix = cm, display_labels=['Barolo', 'Grignolino', 'Barbera'])\n",
    "cm_display.plot()\n",
    "plt.show()"
   ]
  },
  {
   "cell_type": "code",
   "execution_count": 42,
   "id": "679eb98e-1bed-422d-be81-156076409917",
   "metadata": {
    "tags": []
   },
   "outputs": [],
   "source": [
    "spark.stop()"
   ]
  }
 ],
 "metadata": {
  "kernelspec": {
   "display_name": "Python 3 (ipykernel)",
   "language": "python",
   "name": "python3"
  },
  "language_info": {
   "codemirror_mode": {
    "name": "ipython",
    "version": 3
   },
   "file_extension": ".py",
   "mimetype": "text/x-python",
   "name": "python",
   "nbconvert_exporter": "python",
   "pygments_lexer": "ipython3",
   "version": "3.10.10"
  }
 },
 "nbformat": 4,
 "nbformat_minor": 5
}
