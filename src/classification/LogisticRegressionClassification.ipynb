{
 "cells": [
  {
   "cell_type": "markdown",
   "id": "686a870e-e206-428b-94d7-7fed2e268c2e",
   "metadata": {},
   "source": [
    "# Logistic regression classification \n",
    "Logistic regression classification is a popular and widely used machine learning algorithm for solving classification problems. It is a statistical method that is used to analyze and model the relationships between one or more independent variables and a dependent binary variable. In other words, logistic regression is used to predict the probability of an event occurring based on the values of input features.\n",
    "\n",
    "In this Jupyter notebook, we will explore how to use logistic regression for classification problems using PySpark. Specifically, we will use the Breast Cancer Wisconsin dataset, which contains information about various features of breast tumors, to build a logistic regression model that can predict whether a tumor is malignant or benign based on its characteristics. We will cover the following topics:\n",
    "\n",
    "Loading and preparing the data\n",
    "Training a logistic regression model using PySpark's MLlib library\n",
    "Evaluating the model's performance using various metrics\n",
    "Tuning the model's hyperparameters to improve its performance\n",
    "By the end of this notebook, you should have a good understanding of how logistic regression works and how to apply it to real-world classification problems using PySpark."
   ]
  },
  {
   "cell_type": "markdown",
   "id": "2b35a665-075e-4789-bf02-852bbc111f12",
   "metadata": {},
   "source": [
    "## Introduction\n",
    "\n",
    "### Description of the dataset iris\n",
    "\n",
    "The iris dataset is a classic and widely used dataset in machine learning and statistics. It contains measurements of the sepal length, sepal width, petal length, and petal width for 150 iris flowers, with 50 samples from each of three different species (setosa, versicolor, and virginica). The dataset was first introduced in a 1936 paper by the British statistician and biologist Ronald Fisher, and has since become a popular example for exploring and practicing machine learning algorithms.\n",
    "\n",
    "The iris dataset is often used for classification tasks, as the goal is to predict the species of an iris flower based on its measurements. It is also a good dataset for exploring and visualizing data, as the different species have distinct characteristics that can be easily visualized with scatter plots or other techniques.\n",
    "\n",
    "Overall, the iris dataset is a useful and interesting dataset for anyone working in the fields of machine learning, statistics, or data science.\n",
    "\n",
    "### Importing necessary libraries and download dataset "
   ]
  },
  {
   "cell_type": "code",
   "execution_count": 22,
   "id": "9583d205-38a8-4c5b-b4cc-337e3fe7b834",
   "metadata": {
    "tags": []
   },
   "outputs": [],
   "source": [
    "from pyspark.sql import SparkSession\n",
    "from pyspark.ml.feature import RFormula\n",
    "from pyspark.ml.feature import StandardScaler, MinMaxScaler\n",
    "from pyspark.ml.classification import LogisticRegression\n",
    "from pyspark.ml import Pipeline\n",
    "from pyspark.ml.tuning import ParamGridBuilder\n",
    "from pyspark.ml.evaluation import BinaryClassificationEvaluator\n",
    "from pyspark.ml.tuning import TrainValidationSplit"
   ]
  },
  {
   "cell_type": "markdown",
   "id": "ecc0fa3b-f697-4577-8b4c-85df7bd0d4a9",
   "metadata": {},
   "source": [
    "#### Downloading the Breast Cancer Wisconsin dataset\n",
    "Next, we will download the Wine dataset using the curl command. The dataset is available in a CSV format.\n",
    "\n",
    "Each column represents the following information:\n",
    "\n",
    "- id: An integer column representing the unique identifier for each sample in the dataset.\n",
    "- clump_thickness: An integer column representing the clump thickness of cells in the sample, on a scale of 1-10.\n",
    "- uniformity_of_cell_size: An integer column representing the uniformity of cell size in the sample, on a scale of 1-10.\n",
    "- uniformity_of_cell_shape: An integer column representing the uniformity of cell shape in the sample, on a scale of 1-10.\n",
    "- marginal_adhesion: An integer column representing the degree of adhesion of cells in the sample to surrounding tissue, on a scale of 1-10.\n",
    "- single_epithelial_cell_size: An integer column representing the size of the epithelial cells in the sample, on a scale of 1-10.\n",
    "- bare_nuclei: A string column representing the number of bare nuclei present in the sample, on a scale of 1-10. Note that this column contains missing or unknown values, represented by the string '?'.\n",
    "- bland_chromatin: An integer column representing the chromatin pattern in the sample, on a scale of 1-10.\n",
    "- normal_nucleoli: An integer column representing the number of normal nucleoli present in the sample, on a scale of 1-10.\n",
    "- mitoses: An integer column representing the number of mitoses observed in the sample, on a scale of 1-10.\n",
    "- class: An integer column representing the class label for each sample, where 2 indicates a benign tumor and 4 indicates a malignant tumor."
   ]
  },
  {
   "cell_type": "code",
   "execution_count": null,
   "id": "140d2057-6e09-4715-9724-55139960cb3b",
   "metadata": {},
   "outputs": [],
   "source": [
    "! curl -o breast_cancer_wisconsin.csv https://archive.ics.uci.edu/ml/machine-learning-databases/breast-cancer-wisconsin/breast-cancer-wisconsin.data"
   ]
  },
  {
   "cell_type": "code",
   "execution_count": 3,
   "id": "a9f48d09-6c8c-4eaa-909b-12987b8a3934",
   "metadata": {
    "tags": []
   },
   "outputs": [
    {
     "name": "stdout",
     "output_type": "stream",
     "text": [
      "+-------+---------------+-----------------------+------------------------+-----------------+---------------------------+-----------+---------------+---------------+-------+-----+\n",
      "|     id|clump_thickness|uniformity_of_cell_size|uniformity_of_cell_shape|marginal_adhesion|single_epithelial_cell_size|bare_nuclei|bland_chromatin|normal_nucleoli|mitoses|class|\n",
      "+-------+---------------+-----------------------+------------------------+-----------------+---------------------------+-----------+---------------+---------------+-------+-----+\n",
      "|1000025|              5|                      1|                       1|                1|                          2|          1|              3|              1|      1|    2|\n",
      "|1002945|              5|                      4|                       4|                5|                          7|         10|              3|              2|      1|    2|\n",
      "|1015425|              3|                      1|                       1|                1|                          2|          2|              3|              1|      1|    2|\n",
      "|1016277|              6|                      8|                       8|                1|                          3|          4|              3|              7|      1|    2|\n",
      "|1017023|              4|                      1|                       1|                3|                          2|          1|              3|              1|      1|    2|\n",
      "+-------+---------------+-----------------------+------------------------+-----------------+---------------------------+-----------+---------------+---------------+-------+-----+\n",
      "only showing top 5 rows\n",
      "\n"
     ]
    }
   ],
   "source": [
    "from pyspark.sql.types import *\n",
    "\n",
    "schema = StructType([\n",
    "    StructField(\"id\", IntegerType()),\n",
    "    StructField(\"clump_thickness\", IntegerType()),\n",
    "    StructField(\"uniformity_of_cell_size\", IntegerType()),\n",
    "    StructField(\"uniformity_of_cell_shape\", IntegerType()),\n",
    "    StructField(\"marginal_adhesion\", IntegerType()),\n",
    "    StructField(\"single_epithelial_cell_size\", IntegerType()),\n",
    "    StructField(\"bare_nuclei\", StringType()),\n",
    "    StructField(\"bland_chromatin\", IntegerType()),\n",
    "    StructField(\"normal_nucleoli\", IntegerType()),\n",
    "    StructField(\"mitoses\", IntegerType()),\n",
    "    StructField(\"class\", IntegerType())\n",
    "])\n",
    "\n",
    "# init SparkSession\n",
    "spark = SparkSession.builder.appName('LRClassifier').getOrCreate()\n",
    "# read the csv using pyspark\n",
    "cancer = spark.read.csv('./breast_cancer_wisconsin.csv', schema=schema, header=False)\n",
    "\n",
    "# print few lines of the dataframe\n",
    "cancer.show(5)"
   ]
  },
  {
   "cell_type": "markdown",
   "id": "9bce0886-56d6-4273-9cdb-782214680520",
   "metadata": {},
   "source": [
    "## Exploratory Data Analysis\n",
    "\n",
    "### Summary statistics of the dataset\n",
    "\n",
    "In this section, we will explore the iris datasets giving some statistic description like mean, std, etc."
   ]
  },
  {
   "cell_type": "code",
   "execution_count": 4,
   "id": "b924a353-9108-4eab-b662-6e364a4ea4a3",
   "metadata": {
    "tags": []
   },
   "outputs": [
    {
     "name": "stdout",
     "output_type": "stream",
     "text": [
      "+-------+---------------+-----------------------+------------------------+-----------------+---------------------------+-----------+---------------+---------------+-------+\n",
      "|summary|clump_thickness|uniformity_of_cell_size|uniformity_of_cell_shape|marginal_adhesion|single_epithelial_cell_size|bare_nuclei|bland_chromatin|normal_nucleoli|mitoses|\n",
      "+-------+---------------+-----------------------+------------------------+-----------------+---------------------------+-----------+---------------+---------------+-------+\n",
      "|  count|          699.0|                  699.0|                   699.0|            699.0|                      699.0|      699.0|          699.0|          699.0|  699.0|\n",
      "|   mean|           4.42|                   3.13|                    3.21|             2.81|                       3.22|       3.54|           3.44|           2.87|   1.59|\n",
      "| stddev|           2.82|                   3.05|                    2.97|             2.86|                       2.21|       3.64|           2.44|           3.05|   1.72|\n",
      "|    min|            1.0|                    1.0|                     1.0|              1.0|                        1.0|        1.0|            1.0|            1.0|    1.0|\n",
      "|    max|           10.0|                   10.0|                    10.0|             10.0|                       10.0|       null|           10.0|           10.0|   10.0|\n",
      "+-------+---------------+-----------------------+------------------------+-----------------+---------------------------+-----------+---------------+---------------+-------+\n",
      "\n"
     ]
    }
   ],
   "source": [
    "from pyspark.sql.functions import round\n",
    "temp = cancer.drop('class', 'id')\n",
    "temp.describe().select(['summary'] + [round(c, 2).alias(c) for c in temp.columns]).show()"
   ]
  },
  {
   "cell_type": "code",
   "execution_count": 5,
   "id": "6e6eb122-403c-47e9-ae4a-28154b49e4b0",
   "metadata": {
    "tags": []
   },
   "outputs": [
    {
     "name": "stdout",
     "output_type": "stream",
     "text": [
      "+-------+---------------+-----------------------+------------------------+-----------------+---------------------------+---------------+---------------+-------+-----+------------+\n",
      "|     id|clump_thickness|uniformity_of_cell_size|uniformity_of_cell_shape|marginal_adhesion|single_epithelial_cell_size|bland_chromatin|normal_nucleoli|mitoses|class|bare_nuclei_|\n",
      "+-------+---------------+-----------------------+------------------------+-----------------+---------------------------+---------------+---------------+-------+-----+------------+\n",
      "|1000025|              5|                      1|                       1|                1|                          2|              3|              1|      1|    2|           1|\n",
      "|1002945|              5|                      4|                       4|                5|                          7|              3|              2|      1|    2|          10|\n",
      "|1015425|              3|                      1|                       1|                1|                          2|              3|              1|      1|    2|           2|\n",
      "|1016277|              6|                      8|                       8|                1|                          3|              3|              7|      1|    2|           4|\n",
      "|1017023|              4|                      1|                       1|                3|                          2|              3|              1|      1|    2|           1|\n",
      "+-------+---------------+-----------------------+------------------------+-----------------+---------------------------+---------------+---------------+-------+-----+------------+\n",
      "only showing top 5 rows\n",
      "\n"
     ]
    }
   ],
   "source": [
    "from pyspark.sql.functions import count, col, when\n",
    "\n",
    "cancer_trated = cancer.withColumn('bare_nuclei_', when(col('bare_nuclei') == '?', 0).otherwise(col('bare_nuclei'))).drop('bare_nuclei')\n",
    "cancer_trated.show(5)"
   ]
  },
  {
   "cell_type": "code",
   "execution_count": 6,
   "id": "a9e0bace-fbac-4a17-89f8-4f33f55a3030",
   "metadata": {
    "tags": []
   },
   "outputs": [
    {
     "name": "stdout",
     "output_type": "stream",
     "text": [
      "+-----+\n",
      "|class|\n",
      "+-----+\n",
      "|    4|\n",
      "|    2|\n",
      "+-----+\n",
      "\n"
     ]
    }
   ],
   "source": [
    "cancer_trated.select('class').distinct().show()"
   ]
  },
  {
   "cell_type": "code",
   "execution_count": 7,
   "id": "70773f1d-9e68-42d2-8d40-18d6cc00f829",
   "metadata": {
    "tags": []
   },
   "outputs": [
    {
     "name": "stdout",
     "output_type": "stream",
     "text": [
      "+-------+---------------+-----------------------+------------------------+-----------------+---------------------------+---------------+---------------+-------+------------+------+\n",
      "|     id|clump_thickness|uniformity_of_cell_size|uniformity_of_cell_shape|marginal_adhesion|single_epithelial_cell_size|bland_chromatin|normal_nucleoli|mitoses|bare_nuclei_|target|\n",
      "+-------+---------------+-----------------------+------------------------+-----------------+---------------------------+---------------+---------------+-------+------------+------+\n",
      "|1000025|              5|                      1|                       1|                1|                          2|              3|              1|      1|           1|     0|\n",
      "|1002945|              5|                      4|                       4|                5|                          7|              3|              2|      1|          10|     0|\n",
      "|1015425|              3|                      1|                       1|                1|                          2|              3|              1|      1|           2|     0|\n",
      "|1016277|              6|                      8|                       8|                1|                          3|              3|              7|      1|           4|     0|\n",
      "|1017023|              4|                      1|                       1|                3|                          2|              3|              1|      1|           1|     0|\n",
      "+-------+---------------+-----------------------+------------------------+-----------------+---------------------------+---------------+---------------+-------+------------+------+\n",
      "only showing top 5 rows\n",
      "\n"
     ]
    }
   ],
   "source": [
    "cancer_trated = cancer_trated.withColumn('target', when(col('class') == 2, 0).otherwise(1)).drop('class')\n",
    "cancer_trated.show(5)  "
   ]
  },
  {
   "cell_type": "markdown",
   "id": "dcc9b360-0556-439f-aaf1-8c2695d40b23",
   "metadata": {},
   "source": [
    "### Preprocessing the data (e.g., scaling, normalization, encoding)\n",
    "\n",
    "Here we will use the RFormula to separate and treat the dataframe and the MinMaxScaller"
   ]
  },
  {
   "cell_type": "code",
   "execution_count": 8,
   "id": "14cc9ef5-854c-47ab-9df1-5222245286cf",
   "metadata": {
    "tags": []
   },
   "outputs": [],
   "source": [
    "train, test = cancer_trated.randomSplit([0.8, 0.2])"
   ]
  },
  {
   "cell_type": "code",
   "execution_count": 9,
   "id": "be3aa5a4-8ee8-4bb4-b896-b3b5a54cd8b0",
   "metadata": {
    "tags": []
   },
   "outputs": [
    {
     "name": "stdout",
     "output_type": "stream",
     "text": [
      "+--------------------+-----+\n",
      "|            features|label|\n",
      "+--------------------+-----+\n",
      "|(18,[0,1,2,3,4,5,...|  1.0|\n",
      "|(18,[0,1,2,3,4,5,...|  1.0|\n",
      "|(18,[0,1,2,3,4,5,...|  1.0|\n",
      "|(18,[0,1,2,3,4,5,...|  0.0|\n",
      "|(18,[0,1,2,3,4,5,...|  1.0|\n",
      "+--------------------+-----+\n",
      "only showing top 5 rows\n",
      "\n"
     ]
    }
   ],
   "source": [
    "formula = RFormula(formula='target ~ . - id', featuresCol='features', labelCol='label', handleInvalid = \"skip\")\n",
    "# only to see if everything is ok\n",
    "formula.fit(train).transform(train).select('features', 'label').show(5)"
   ]
  },
  {
   "cell_type": "code",
   "execution_count": 10,
   "id": "90e0cff2-e92f-4a91-8910-4bb3a2c1505c",
   "metadata": {
    "tags": []
   },
   "outputs": [
    {
     "name": "stdout",
     "output_type": "stream",
     "text": [
      "+--------------------+--------------------+\n",
      "|            features|      scaledFeatures|\n",
      "+--------------------+--------------------+\n",
      "|(18,[0,1,2,3,4,5,...|(18,[0,2,3,4,5,6,...|\n",
      "|(18,[0,1,2,3,4,5,...|(18,[0,1,2,3,4,5,...|\n",
      "|(18,[0,1,2,3,4,5,...|(18,[0,1,2,3,4,5,...|\n",
      "|(18,[0,1,2,3,4,5,...|(18,[4,5,10],[0.1...|\n",
      "|(18,[0,1,2,3,4,5,...|(18,[0,1,2,3,4,5,...|\n",
      "+--------------------+--------------------+\n",
      "only showing top 5 rows\n",
      "\n"
     ]
    }
   ],
   "source": [
    "temp = formula.fit(train).transform(train)\n",
    "scaler = MinMaxScaler(inputCol='features', outputCol='scaledFeatures', )\n",
    "# only to see if everything is ok\n",
    "scaler.fit(temp).transform(temp).select('features', 'scaledFeatures').show(5)"
   ]
  },
  {
   "cell_type": "markdown",
   "id": "07387279-1711-4570-8b1a-95786b939e47",
   "metadata": {},
   "source": [
    "## Model Training\n",
    " Here we will build the model and create the pipeline that will be trained\n",
    " \n",
    "### Building a Logistic Regression Classifier\n",
    "\n",
    "Building a LR model with standard params"
   ]
  },
  {
   "cell_type": "code",
   "execution_count": 11,
   "id": "b1e6dbfd-c5b8-4974-ba57-50b7a622ecee",
   "metadata": {
    "tags": []
   },
   "outputs": [],
   "source": [
    "# We can also use the multinomial family for binary classification\n",
    "mlr = LogisticRegression(maxIter=10, regParam=0.3, elasticNetParam=0.8, family=\"multinomial\")"
   ]
  },
  {
   "cell_type": "code",
   "execution_count": 13,
   "id": "6c84f90d-5fc7-45a2-8d2e-d75206945df3",
   "metadata": {
    "tags": []
   },
   "outputs": [],
   "source": [
    "pipeline = Pipeline(stages=[formula, scaler, mlr])"
   ]
  },
  {
   "cell_type": "markdown",
   "id": "567978c1-3b9c-4b89-b8b7-742592b73302",
   "metadata": {},
   "source": [
    "### Training the model on training set"
   ]
  },
  {
   "cell_type": "code",
   "execution_count": 14,
   "id": "60619631-149d-4e20-b2a1-d5eb63cee3d1",
   "metadata": {
    "tags": []
   },
   "outputs": [],
   "source": [
    "model = pipeline.fit(train)"
   ]
  },
  {
   "cell_type": "markdown",
   "id": "ca54bf09-b690-4f71-8e9a-da66dd85ce6d",
   "metadata": {},
   "source": [
    "### Evaluating the performance of the model"
   ]
  },
  {
   "cell_type": "code",
   "execution_count": 17,
   "id": "9503a902-ff45-4da0-9b18-df4d3890cbb3",
   "metadata": {
    "tags": []
   },
   "outputs": [
    {
     "name": "stdout",
     "output_type": "stream",
     "text": [
      "Area under PR = 0.9787522945787367\n",
      "Area under ROC = 0.9895833333333333\n"
     ]
    }
   ],
   "source": [
    "prd = model.transform(test)\n",
    "\n",
    "evaluator = BinaryClassificationEvaluator()\n",
    "\n",
    "# Area under precision-recall curve\n",
    "print(\"Area under PR = %s\" % evaluator.evaluate(prd, {evaluator.metricName: \"areaUnderPR\"}))\n",
    "\n",
    "# Area under ROC curve\n",
    "print(\"Area under ROC = %s\" % evaluator.evaluate(prd, {evaluator.metricName: \"areaUnderROC\"}))"
   ]
  },
  {
   "cell_type": "markdown",
   "id": "5c49891d-36cb-4b32-922b-fdd039385199",
   "metadata": {
    "tags": []
   },
   "source": [
    "## Model Tuning and Interpretation\n",
    "\n",
    "Fine-tuning the model (e.g., hyperparameter tuning)"
   ]
  },
  {
   "cell_type": "code",
   "execution_count": 23,
   "id": "81fd260b-70b8-426d-b802-194c9b32c210",
   "metadata": {
    "tags": []
   },
   "outputs": [],
   "source": [
    "param_builder = ParamGridBuilder() \\\n",
    "    .addGrid(mlr.regParam, [0.1, 0.01]) \\\n",
    "    .addGrid(mlr.elasticNetParam, [0.0, 0.5, 1.0]) \\\n",
    "    .addGrid(mlr.maxIter, [10, 100]) \\\n",
    "    .build()\n",
    "\n",
    "pipeline = Pipeline(stages=[formula, scaler, mlr])\n",
    "tvs = TrainValidationSplit(estimator=pipeline, estimatorParamMaps=param_builder, evaluator=evaluator, trainRatio=0.8)"
   ]
  },
  {
   "cell_type": "code",
   "execution_count": 24,
   "id": "69857f1b-9c84-4ffe-ac16-1089980d428c",
   "metadata": {
    "tags": []
   },
   "outputs": [
    {
     "name": "stdout",
     "output_type": "stream",
     "text": [
      "+----------+-----+\n",
      "|prediction|label|\n",
      "+----------+-----+\n",
      "|       0.0|  0.0|\n",
      "|       0.0|  0.0|\n",
      "|       0.0|  0.0|\n",
      "|       1.0|  1.0|\n",
      "|       0.0|  0.0|\n",
      "+----------+-----+\n",
      "only showing top 5 rows\n",
      "\n"
     ]
    }
   ],
   "source": [
    "model2 = tvs.fit(train)\n",
    "prd2 = model2.transform(test)\n",
    "prd2.select('prediction', 'label').show(5)"
   ]
  },
  {
   "cell_type": "code",
   "execution_count": 25,
   "id": "6695ea44-785d-4896-8adc-b50614881cb4",
   "metadata": {
    "tags": []
   },
   "outputs": [
    {
     "name": "stdout",
     "output_type": "stream",
     "text": [
      "Area under PR = 0.9922969553446058\n",
      "Area under ROC = 0.9961309523809524\n"
     ]
    }
   ],
   "source": [
    "# Area under precision-recall curve\n",
    "print(\"Area under PR = %s\" % evaluator.evaluate(prd2, {evaluator.metricName: \"areaUnderPR\"}))\n",
    "\n",
    "# Area under ROC curve\n",
    "print(\"Area under ROC = %s\" % evaluator.evaluate(prd2, {evaluator.metricName: \"areaUnderROC\"}))"
   ]
  },
  {
   "cell_type": "code",
   "execution_count": 26,
   "id": "edf7b9b8-f525-4226-8cfa-948230700b5d",
   "metadata": {
    "tags": []
   },
   "outputs": [
    {
     "data": {
      "image/png": "[encoded data removed]",
      "text/plain": [
       "<Figure size 640x480 with 2 Axes>"
      ]
     },
     "metadata": {},
     "output_type": "display_data"
    }
   ],
   "source": [
    "from sklearn import metrics\n",
    "import matplotlib.pyplot as plt\n",
    "\n",
    "df_prd = prd.select('label', 'prediction').toPandas()\n",
    "cm = metrics.confusion_matrix(df_prd['label'], df_prd['prediction'])\n",
    "cm_display = metrics.ConfusionMatrixDisplay(confusion_matrix = cm, display_labels=['Benign','malignant'])\n",
    "cm_display.plot()\n",
    "plt.show()"
   ]
  },
  {
   "cell_type": "code",
   "execution_count": 27,
   "id": "92581bf2-bb70-4e16-b990-d6b544e527cb",
   "metadata": {
    "tags": []
   },
   "outputs": [
    {
     "data": {
      "image/png": "[encoded data removed]",
      "text/plain": [
       "<Figure size 640x480 with 2 Axes>"
      ]
     },
     "metadata": {},
     "output_type": "display_data"
    }
   ],
   "source": [
    "df_prd2 = prd2.select('label', 'prediction').toPandas()\n",
    "cm = metrics.confusion_matrix(df_prd2['label'], df_prd2['prediction'])\n",
    "cm_display = metrics.ConfusionMatrixDisplay(confusion_matrix = cm, display_labels=['Benign','malignant'])\n",
    "cm_display.plot()\n",
    "plt.show()"
   ]
  }
 ],
 "metadata": {
  "kernelspec": {
   "display_name": "Python 3 (ipykernel)",
   "language": "python",
   "name": "python3"
  },
  "language_info": {
   "codemirror_mode": {
    "name": "ipython",
    "version": 3
   },
   "file_extension": ".py",
   "mimetype": "text/x-python",
   "name": "python",
   "nbconvert_exporter": "python",
   "pygments_lexer": "ipython3",
   "version": "3.10.10"
  }
 },
 "nbformat": 4,
 "nbformat_minor": 5
}
