{
 "cells": [
  {
   "cell_type": "markdown",
   "id": "89b1e1da-7c6d-4c85-8c43-5f0a3b3537a9",
   "metadata": {},
   "source": [
    "# Support Vector Machine Classification\n",
    "Support Vector Machine (SVM) is a powerful machine learning algorithm used for classification problems. It is particularly useful for problems with complex decision boundaries, as it can handle both linear and non-linear relationships between features and the target variable.\n",
    "\n",
    "In this Jupyter notebook, we will explore how to use SVM for classification problems using PySpark. Specifically, we will use the Breast Cancer Wisconsin dataset, which contains information about the physical and chemical characteristics of breast tumors, to build an SVM model that can predict whether a tumor is benign or malignant. We will cover the following topics:\n",
    "\n",
    "- Loading and preparing the data\n",
    "- Training an SVM model using PySpark's MLlib library\n",
    "- Evaluating the model's performance using various metrics\n",
    "- Tuning the model's hyperparameters to improve its performance\n",
    "By the end of this notebook, you should have a good understanding of how SVM works and how to apply it to real-world classification problems using PySpark."
   ]
  },
  {
   "cell_type": "markdown",
   "id": "478cfe3c-d523-4b5c-bd43-74af576fcda6",
   "metadata": {},
   "source": [
    "## Introduction\n",
    "\n",
    "The Breast Cancer Wisconsin dataset is a widely-used benchmark dataset for binary classification problems. It contains information about breast cancer tumors detected in patients and the goal is to predict whether the tumor is benign or malignant based on various physical characteristics of the tumor. The dataset has 569 instances with 30 features, including radius, texture, perimeter, area, smoothness, compactness, concavity, symmetry, and fractal dimension. This dataset is commonly used to evaluate the performance of machine learning algorithms for breast cancer diagnosis.\n",
    "\n",
    "### Importing necessery libraries and download the dataset\n",
    "\n",
    "In this section, we will import the required libraries and download the  Breast Cancer Wisconsin dataset.\n",
    "\n",
    "#### Importing Libraries\n",
    "We will begin by importing the necessary libraries required for our analysis. These include:\n",
    "\n",
    "- SparkSession: used for start and mantain a spark session\n",
    "- RFormula: used for transform the dataset in something meaninful to spark\n",
    "- StandardScaler: used for scaler the dataset\n",
    "- GBT: used for construct the model\n",
    "- Pipeline: used for create a pipeline\n",
    "- skelearn: only used here to easy create a confusion matrix\n",
    "- ParamGridBuilder: used for tuning the hyperparams of the model\n",
    "- TrainValidationSplit: used for crossvalidation and select best hyperparams\n",
    "- matplotlib: used for data visualization"
   ]
  },
  {
   "cell_type": "code",
   "execution_count": 2,
   "id": "b4d3d988-ea05-46d5-8c25-39e263cbd885",
   "metadata": {
    "tags": []
   },
   "outputs": [],
   "source": [
    "from pyspark.sql import SparkSession\n",
    "from pyspark.ml.feature import RFormula\n",
    "from pyspark.ml.feature import StandardScaler, MinMaxScaler\n",
    "from pyspark.ml.classification import LinearSVC\n",
    "from pyspark.ml import Pipeline\n",
    "from pyspark.ml.evaluation import BinaryClassificationEvaluator\n",
    "import matplotlib.pyplot as plt\n",
    "from sklearn import metrics\n",
    "from pyspark.ml.tuning import ParamGridBuilder\n",
    "from pyspark.ml.tuning import TrainValidationSplit\n",
    "from pyspark.sql.functions import when"
   ]
  },
  {
   "cell_type": "markdown",
   "id": "93b880a7-221c-44a9-a037-850c23bb460b",
   "metadata": {},
   "source": [
    "#### Downloading the Breast Cancer Wisconsin dataset\n",
    "Next, we will download the Wine dataset using the curl command. The dataset is available in a CSV format.\n",
    "\n",
    "Each column represents the following information:\n",
    "\n",
    "- id: An integer column representing the unique identifier for each sample in the dataset.\n",
    "- clump_thickness: An integer column representing the clump thickness of cells in the sample, on a scale of 1-10.\n",
    "- uniformity_of_cell_size: An integer column representing the uniformity of cell size in the sample, on a scale of 1-10.\n",
    "- uniformity_of_cell_shape: An integer column representing the uniformity of cell shape in the sample, on a scale of 1-10.\n",
    "- marginal_adhesion: An integer column representing the degree of adhesion of cells in the sample to surrounding tissue, on a scale of 1-10.\n",
    "- single_epithelial_cell_size: An integer column representing the size of the epithelial cells in the sample, on a scale of 1-10.\n",
    "- bare_nuclei: A string column representing the number of bare nuclei present in the sample, on a scale of 1-10. Note that this column contains missing or unknown values, represented by the string '?'.\n",
    "- bland_chromatin: An integer column representing the chromatin pattern in the sample, on a scale of 1-10.\n",
    "- normal_nucleoli: An integer column representing the number of normal nucleoli present in the sample, on a scale of 1-10.\n",
    "- mitoses: An integer column representing the number of mitoses observed in the sample, on a scale of 1-10.\n",
    "- class: An integer column representing the class label for each sample, where 2 indicates a benign tumor and 4 indicates a malignant tumor."
   ]
  },
  {
   "cell_type": "code",
   "execution_count": 3,
   "id": "9c2b5dd0-d299-4a5c-b8ab-aea1c86bd463",
   "metadata": {
    "tags": []
   },
   "outputs": [
    {
     "name": "stdout",
     "output_type": "stream",
     "text": [
      "  % Total    % Received % Xferd  Average Speed   Time    Time     Time  Current\n",
      "                                 Dload  Upload   Total   Spent    Left  Speed\n",
      "100 19889  100 19889    0     0  13217      0  0:00:01  0:00:01 --:--:-- 13215\n"
     ]
    }
   ],
   "source": [
    "! curl -o breast_cancer_wisconsin.csv https://archive.ics.uci.edu/ml/machine-learning-databases/breast-cancer-wisconsin/breast-cancer-wisconsin.data"
   ]
  },
  {
   "cell_type": "code",
   "execution_count": 4,
   "id": "97937da7-a419-4b3c-a010-22a2224dbfc5",
   "metadata": {
    "tags": []
   },
   "outputs": [
    {
     "name": "stdout",
     "output_type": "stream",
     "text": [
      "+-------+---------------+-----------------------+------------------------+-----------------+---------------------------+-----------+---------------+---------------+-------+-----+\n",
      "|     id|clump_thickness|uniformity_of_cell_size|uniformity_of_cell_shape|marginal_adhesion|single_epithelial_cell_size|bare_nuclei|bland_chromatin|normal_nucleoli|mitoses|class|\n",
      "+-------+---------------+-----------------------+------------------------+-----------------+---------------------------+-----------+---------------+---------------+-------+-----+\n",
      "|1000025|              5|                      1|                       1|                1|                          2|          1|              3|              1|      1|    2|\n",
      "|1002945|              5|                      4|                       4|                5|                          7|         10|              3|              2|      1|    2|\n",
      "|1015425|              3|                      1|                       1|                1|                          2|          2|              3|              1|      1|    2|\n",
      "|1016277|              6|                      8|                       8|                1|                          3|          4|              3|              7|      1|    2|\n",
      "|1017023|              4|                      1|                       1|                3|                          2|          1|              3|              1|      1|    2|\n",
      "+-------+---------------+-----------------------+------------------------+-----------------+---------------------------+-----------+---------------+---------------+-------+-----+\n",
      "only showing top 5 rows\n",
      "\n"
     ]
    }
   ],
   "source": [
    "from pyspark.sql.types import *\n",
    "\n",
    "schema = StructType([\n",
    "    StructField(\"id\", IntegerType()),\n",
    "    StructField(\"clump_thickness\", IntegerType()),\n",
    "    StructField(\"uniformity_of_cell_size\", IntegerType()),\n",
    "    StructField(\"uniformity_of_cell_shape\", IntegerType()),\n",
    "    StructField(\"marginal_adhesion\", IntegerType()),\n",
    "    StructField(\"single_epithelial_cell_size\", IntegerType()),\n",
    "    StructField(\"bare_nuclei\", StringType()),\n",
    "    StructField(\"bland_chromatin\", IntegerType()),\n",
    "    StructField(\"normal_nucleoli\", IntegerType()),\n",
    "    StructField(\"mitoses\", IntegerType()),\n",
    "    StructField(\"class\", IntegerType())\n",
    "])\n",
    "\n",
    "# init SparkSession\n",
    "spark = SparkSession.builder.appName('SVCClassifier').getOrCreate()\n",
    "# read the csv using pyspark\n",
    "cancer = spark.read.csv('./breast_cancer_wisconsin.csv', schema=schema, header=False)\n",
    "\n",
    "# print few lines of the dataframe\n",
    "cancer.show(5)"
   ]
  },
  {
   "cell_type": "markdown",
   "id": "7107d63f-9234-4e94-96ab-8995dd6024aa",
   "metadata": {},
   "source": [
    "## Exploratory Data Analysis\n",
    "\n",
    "### Summary statistics of the dataset\n",
    "\n",
    "In this section, we will explore the iris datasets giving some statistic description like mean, std, etc."
   ]
  },
  {
   "cell_type": "code",
   "execution_count": 6,
   "id": "39664738-a814-4e36-bc52-eea49f7033ff",
   "metadata": {
    "tags": []
   },
   "outputs": [
    {
     "name": "stdout",
     "output_type": "stream",
     "text": [
      "+-------+---------------+-----------------------+------------------------+-----------------+---------------------------+-----------+---------------+---------------+-------+\n",
      "|summary|clump_thickness|uniformity_of_cell_size|uniformity_of_cell_shape|marginal_adhesion|single_epithelial_cell_size|bare_nuclei|bland_chromatin|normal_nucleoli|mitoses|\n",
      "+-------+---------------+-----------------------+------------------------+-----------------+---------------------------+-----------+---------------+---------------+-------+\n",
      "|  count|          699.0|                  699.0|                   699.0|            699.0|                      699.0|      699.0|          699.0|          699.0|  699.0|\n",
      "|   mean|           4.42|                   3.13|                    3.21|             2.81|                       3.22|       3.54|           3.44|           2.87|   1.59|\n",
      "| stddev|           2.82|                   3.05|                    2.97|             2.86|                       2.21|       3.64|           2.44|           3.05|   1.72|\n",
      "|    min|            1.0|                    1.0|                     1.0|              1.0|                        1.0|        1.0|            1.0|            1.0|    1.0|\n",
      "|    max|           10.0|                   10.0|                    10.0|             10.0|                       10.0|       null|           10.0|           10.0|   10.0|\n",
      "+-------+---------------+-----------------------+------------------------+-----------------+---------------------------+-----------+---------------+---------------+-------+\n",
      "\n"
     ]
    }
   ],
   "source": [
    "from pyspark.sql.functions import round\n",
    "temp = cancer.drop('class', 'id')\n",
    "temp.describe().select(['summary'] + [round(c, 2).alias(c) for c in temp.columns]).show()"
   ]
  },
  {
   "cell_type": "code",
   "execution_count": 30,
   "id": "9dd9b33a-961a-4c7a-88f7-565465cecb6a",
   "metadata": {
    "tags": []
   },
   "outputs": [
    {
     "name": "stdout",
     "output_type": "stream",
     "text": [
      "+-------+---------------+-----------------------+------------------------+-----------------+---------------------------+---------------+---------------+-------+-----+------------+\n",
      "|     id|clump_thickness|uniformity_of_cell_size|uniformity_of_cell_shape|marginal_adhesion|single_epithelial_cell_size|bland_chromatin|normal_nucleoli|mitoses|class|bare_nuclei_|\n",
      "+-------+---------------+-----------------------+------------------------+-----------------+---------------------------+---------------+---------------+-------+-----+------------+\n",
      "|1000025|              5|                      1|                       1|                1|                          2|              3|              1|      1|    2|           1|\n",
      "|1002945|              5|                      4|                       4|                5|                          7|              3|              2|      1|    2|          10|\n",
      "|1015425|              3|                      1|                       1|                1|                          2|              3|              1|      1|    2|           2|\n",
      "|1016277|              6|                      8|                       8|                1|                          3|              3|              7|      1|    2|           4|\n",
      "|1017023|              4|                      1|                       1|                3|                          2|              3|              1|      1|    2|           1|\n",
      "+-------+---------------+-----------------------+------------------------+-----------------+---------------------------+---------------+---------------+-------+-----+------------+\n",
      "only showing top 5 rows\n",
      "\n"
     ]
    }
   ],
   "source": [
    "from pyspark.sql.functions import count, col, when\n",
    "\n",
    "cancer_trated = cancer.withColumn('bare_nuclei_', when(col('bare_nuclei') == '?', 0).otherwise(col('bare_nuclei'))).drop('bare_nuclei')\n",
    "cancer_trated.show(5)"
   ]
  },
  {
   "cell_type": "code",
   "execution_count": 31,
   "id": "24579066-2da9-4582-8b91-378564cbb4a0",
   "metadata": {
    "tags": []
   },
   "outputs": [
    {
     "name": "stdout",
     "output_type": "stream",
     "text": [
      "+-----+\n",
      "|class|\n",
      "+-----+\n",
      "|    4|\n",
      "|    2|\n",
      "+-----+\n",
      "\n"
     ]
    }
   ],
   "source": [
    "cancer_trated.select('class').distinct().show()"
   ]
  },
  {
   "cell_type": "code",
   "execution_count": 32,
   "id": "2ef58bef-cdaa-4256-adf6-fd257a03420d",
   "metadata": {
    "tags": []
   },
   "outputs": [
    {
     "name": "stdout",
     "output_type": "stream",
     "text": [
      "+-------+---------------+-----------------------+------------------------+-----------------+---------------------------+---------------+---------------+-------+------------+------+\n",
      "|     id|clump_thickness|uniformity_of_cell_size|uniformity_of_cell_shape|marginal_adhesion|single_epithelial_cell_size|bland_chromatin|normal_nucleoli|mitoses|bare_nuclei_|target|\n",
      "+-------+---------------+-----------------------+------------------------+-----------------+---------------------------+---------------+---------------+-------+------------+------+\n",
      "|1000025|              5|                      1|                       1|                1|                          2|              3|              1|      1|           1|     0|\n",
      "|1002945|              5|                      4|                       4|                5|                          7|              3|              2|      1|          10|     0|\n",
      "|1015425|              3|                      1|                       1|                1|                          2|              3|              1|      1|           2|     0|\n",
      "|1016277|              6|                      8|                       8|                1|                          3|              3|              7|      1|           4|     0|\n",
      "|1017023|              4|                      1|                       1|                3|                          2|              3|              1|      1|           1|     0|\n",
      "+-------+---------------+-----------------------+------------------------+-----------------+---------------------------+---------------+---------------+-------+------------+------+\n",
      "only showing top 5 rows\n",
      "\n"
     ]
    }
   ],
   "source": [
    "cancer_trated = cancer_trated.withColumn('target', when(col('class') == 2, 0).otherwise(1)).drop('class')\n",
    "cancer_trated.show(5)                                  "
   ]
  },
  {
   "cell_type": "markdown",
   "id": "ca108fa1-8d14-48b6-8301-4205534aab05",
   "metadata": {
    "tags": []
   },
   "source": [
    "### Preprocessing the data (e.g., scaling, normalization, encoding)\n",
    "\n",
    "Here we will use the RFormula to separate and treat the dataframe and the MinMaxScaller"
   ]
  },
  {
   "cell_type": "code",
   "execution_count": 34,
   "id": "e029825f-8ed6-4055-8836-73bd0e48249e",
   "metadata": {
    "tags": []
   },
   "outputs": [],
   "source": [
    "train, test = cancer_trated.randomSplit([0.8, 0.2])"
   ]
  },
  {
   "cell_type": "code",
   "execution_count": 35,
   "id": "03b19164-3abb-4ed1-9ac1-c8be09415629",
   "metadata": {
    "tags": []
   },
   "outputs": [
    {
     "name": "stdout",
     "output_type": "stream",
     "text": [
      "+--------------------+-----+\n",
      "|            features|label|\n",
      "+--------------------+-----+\n",
      "|(18,[0,1,2,3,4,5,...|  0.0|\n",
      "|(18,[0,1,2,3,4,5,...|  1.0|\n",
      "|(18,[0,1,2,3,4,5,...|  1.0|\n",
      "|(18,[0,1,2,3,4,5,...|  1.0|\n",
      "|(18,[0,1,2,3,4,5,...|  1.0|\n",
      "+--------------------+-----+\n",
      "only showing top 5 rows\n",
      "\n"
     ]
    }
   ],
   "source": [
    "formula = RFormula(formula='target ~ . - id', featuresCol='features', labelCol='label', handleInvalid = \"skip\")\n",
    "# only to see if everything is ok\n",
    "formula.fit(train).transform(train).select('features', 'label').show(5)"
   ]
  },
  {
   "cell_type": "code",
   "execution_count": 36,
   "id": "1b295402-1fd8-4255-a10d-4415cdafa648",
   "metadata": {
    "tags": []
   },
   "outputs": [
    {
     "name": "stdout",
     "output_type": "stream",
     "text": [
      "+--------------------+--------------------+\n",
      "|            features|      scaledFeatures|\n",
      "+--------------------+--------------------+\n",
      "|(18,[0,1,2,3,4,5,...|(18,[0,1,2,4,5,6,...|\n",
      "|(18,[0,1,2,3,4,5,...|(18,[0,2,3,4,5,6,...|\n",
      "|(18,[0,1,2,3,4,5,...|(18,[0,1,2,3,4,5,...|\n",
      "|(18,[0,1,2,3,4,5,...|(18,[0,1,2,3,4,5,...|\n",
      "|(18,[0,1,2,3,4,5,...|(18,[0,1,2,4,5,6,...|\n",
      "+--------------------+--------------------+\n",
      "only showing top 5 rows\n",
      "\n"
     ]
    }
   ],
   "source": [
    "temp = formula.fit(train).transform(train)\n",
    "scaler = MinMaxScaler(inputCol='features', outputCol='scaledFeatures', )\n",
    "# only to see if everything is ok\n",
    "scaler.fit(temp).transform(temp).select('features', 'scaledFeatures').show(5)"
   ]
  },
  {
   "cell_type": "markdown",
   "id": "c3afd0d4-321e-4f0b-8d74-c1255e7d06f2",
   "metadata": {},
   "source": [
    "## Model Training\n",
    " Here we will build the model and create the pipeline that will be trained\n",
    " \n",
    "### Building a SVC Classifier\n",
    "\n",
    "Building a SVC model with standard params"
   ]
  },
  {
   "cell_type": "code",
   "execution_count": 37,
   "id": "3775a6d4-f306-4011-ba8a-4fe1e544efea",
   "metadata": {
    "tags": []
   },
   "outputs": [],
   "source": [
    "lsvc = LinearSVC(maxIter=10, regParam=0.1)"
   ]
  },
  {
   "cell_type": "code",
   "execution_count": 38,
   "id": "7a5bdb9c-ab92-455b-a5d8-3e162bdc8064",
   "metadata": {
    "tags": []
   },
   "outputs": [],
   "source": [
    "pipeline = Pipeline(stages=[formula, scaler, lsvc])"
   ]
  },
  {
   "cell_type": "markdown",
   "id": "adfe8e52-4b8c-4736-a1d8-37aa5753ce1e",
   "metadata": {},
   "source": [
    "### Training the model on training set"
   ]
  },
  {
   "cell_type": "code",
   "execution_count": 39,
   "id": "bd2c7492-1b5f-4473-a5d2-225bb34563cb",
   "metadata": {
    "tags": []
   },
   "outputs": [],
   "source": [
    "model = pipeline.fit(train)"
   ]
  },
  {
   "cell_type": "markdown",
   "id": "00a69737-df2f-4c32-837f-0ac739ae4eec",
   "metadata": {},
   "source": [
    "### Evaluating the performance of the model"
   ]
  },
  {
   "cell_type": "code",
   "execution_count": 45,
   "id": "cafcf9c2-ff0b-4654-8bfb-09af35f55e1c",
   "metadata": {
    "tags": []
   },
   "outputs": [
    {
     "name": "stdout",
     "output_type": "stream",
     "text": [
      "Area under PR = 0.9770717593601368\n",
      "Area under ROC = 0.9909633418584826\n"
     ]
    }
   ],
   "source": [
    "prd = model.transform(test)\n",
    "\n",
    "evaluator = BinaryClassificationEvaluator()\n",
    "\n",
    "# Area under precision-recall curve\n",
    "print(\"Area under PR = %s\" % evaluator.evaluate(prd, {evaluator.metricName: \"areaUnderPR\"}))\n",
    "\n",
    "# Area under ROC curve\n",
    "print(\"Area under ROC = %s\" % evaluator.evaluate(prd, {evaluator.metricName: \"areaUnderROC\"}))\n"
   ]
  },
  {
   "cell_type": "markdown",
   "id": "fe1fe46b-26ef-4387-9b18-8f01b524f36b",
   "metadata": {},
   "source": [
    "## Model Tuning and Interpretation\n",
    "\n",
    "Fine-tuning the model (e.g., hyperparameter tuning)"
   ]
  },
  {
   "cell_type": "code",
   "execution_count": 48,
   "id": "502b54bc-1a4a-45f7-a48a-f30ab7bfb77c",
   "metadata": {
    "tags": []
   },
   "outputs": [],
   "source": [
    "svc_param_builder = ParamGridBuilder() \\\n",
    "    .addGrid(lsvc.maxIter, [5, 10, 100]) \\\n",
    "    .addGrid(lsvc.regParam, [0.1, 0.01]) \\\n",
    "    .addGrid(lsvc.threshold, [0.0, 0.5, 0.7]) \\\n",
    "    .build()\n",
    "\n",
    "pipeline = Pipeline(stages=[formula, scaler, lsvc])\n",
    "tvs = TrainValidationSplit(estimator=pipeline, estimatorParamMaps=svc_param_builder, evaluator=evaluator, trainRatio=0.8)"
   ]
  },
  {
   "cell_type": "code",
   "execution_count": 49,
   "id": "0399d05e-9346-4ae0-8ac4-2e878810054d",
   "metadata": {
    "tags": []
   },
   "outputs": [
    {
     "name": "stdout",
     "output_type": "stream",
     "text": [
      "+----------+-----+\n",
      "|prediction|label|\n",
      "+----------+-----+\n",
      "|       1.0|  1.0|\n",
      "|       0.0|  0.0|\n",
      "|       1.0|  1.0|\n",
      "|       1.0|  1.0|\n",
      "|       0.0|  0.0|\n",
      "+----------+-----+\n",
      "only showing top 5 rows\n",
      "\n"
     ]
    }
   ],
   "source": [
    "model2 = tvs.fit(train)\n",
    "prd2 = model2.transform(test)\n",
    "prd2.select('prediction', 'label').show(5)"
   ]
  },
  {
   "cell_type": "code",
   "execution_count": 50,
   "id": "4cd14ac1-0aa8-4951-a8e6-f7f6d18bbf78",
   "metadata": {
    "tags": []
   },
   "outputs": [
    {
     "name": "stdout",
     "output_type": "stream",
     "text": [
      "Area under PR = 0.9760541079582717\n",
      "Area under ROC = 0.9904518329070758\n"
     ]
    }
   ],
   "source": [
    "# Area under precision-recall curve\n",
    "print(\"Area under PR = %s\" % evaluator.evaluate(prd2, {evaluator.metricName: \"areaUnderPR\"}))\n",
    "\n",
    "# Area under ROC curve\n",
    "print(\"Area under ROC = %s\" % evaluator.evaluate(prd2, {evaluator.metricName: \"areaUnderROC\"}))"
   ]
  },
  {
   "cell_type": "code",
   "execution_count": 52,
   "id": "ff8be606-3248-4968-bb4c-7ba61a951be1",
   "metadata": {
    "tags": []
   },
   "outputs": [
    {
     "data": {
      "image/png": "[encoded data removed]",
      "text/plain": [
       "<Figure size 640x480 with 2 Axes>"
      ]
     },
     "metadata": {},
     "output_type": "display_data"
    }
   ],
   "source": [
    "from sklearn import metrics\n",
    "import matplotlib.pyplot as plt\n",
    "\n",
    "df_prd = prd.select('label', 'prediction').toPandas()\n",
    "cm = metrics.confusion_matrix(df_prd['label'], df_prd['prediction'])\n",
    "cm_display = metrics.ConfusionMatrixDisplay(confusion_matrix = cm, display_labels=['Benign','malignant'])\n",
    "cm_display.plot()\n",
    "plt.show()"
   ]
  },
  {
   "cell_type": "code",
   "execution_count": 53,
   "id": "6feb6c58-09d3-4d10-9ede-ea38bc2363f3",
   "metadata": {
    "tags": []
   },
   "outputs": [
    {
     "data": {
      "image/png": "[encoded data removed]",
      "text/plain": [
       "<Figure size 640x480 with 2 Axes>"
      ]
     },
     "metadata": {},
     "output_type": "display_data"
    }
   ],
   "source": [
    "df_prd2 = prd2.select('label', 'prediction').toPandas()\n",
    "cm = metrics.confusion_matrix(df_prd2['label'], df_prd2['prediction'])\n",
    "cm_display = metrics.ConfusionMatrixDisplay(confusion_matrix = cm, display_labels=['Benign','malignant'])\n",
    "cm_display.plot()\n",
    "plt.show()"
   ]
  },
  {
   "cell_type": "code",
   "execution_count": 54,
   "id": "6f734cbe-8eaf-4e5a-8984-ba7005428744",
   "metadata": {
    "tags": []
   },
   "outputs": [],
   "source": [
    "spark.stop()"
   ]
  },
  {
   "cell_type": "code",
   "execution_count": null,
   "id": "c72c38da-b1e4-4302-93b5-e22b5d343b69",
   "metadata": {},
   "outputs": [],
   "source": []
  }
 ],
 "metadata": {
  "kernelspec": {
   "display_name": "Python 3 (ipykernel)",
   "language": "python",
   "name": "python3"
  },
  "language_info": {
   "codemirror_mode": {
    "name": "ipython",
    "version": 3
   },
   "file_extension": ".py",
   "mimetype": "text/x-python",
   "name": "python",
   "nbconvert_exporter": "python",
   "pygments_lexer": "ipython3",
   "version": "3.10.10"
  }
 },
 "nbformat": 4,
 "nbformat_minor": 5
}
