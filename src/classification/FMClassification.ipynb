{
 "cells": [
  {
   "cell_type": "markdown",
   "id": "013a026d-225e-4e75-aa61-64fbb7e7c7f8",
   "metadata": {},
   "source": [
    "# Factorial Machine Classification with Heart Disease Data Set\n",
    "Factorial Machine (FM) is a supervised learning algorithm that can be used for classification problems. It is a type of factorization machine that uses feature interactions to predict the target variable. The FM algorithm has been shown to be effective in a variety of applications, including recommender systems, natural language processing, and bioinformatics.\n",
    "\n",
    "In this Jupyter notebook, we will explore how to use FM for classification problems using PySpark. Specifically, we will use the Heart Disease dataset, which contains information about patients with and without heart disease, to build an FM model that can predict whether a patient has heart disease based on their physical characteristics. We will cover the following topics:\n",
    "\n",
    "- Loading and preparing the data\n",
    "- Training an FM model using PySpark's MLlib library\n",
    "- Evaluating the model's performance using various metrics\n",
    "- Tuning the model's hyperparameters to improve its performance\n",
    "\n",
    "By the end of this notebook, you should have a good understanding of how Factorial Machine works and how to apply it to real-world classification problems using PySpark."
   ]
  },
  {
   "cell_type": "markdown",
   "id": "d85fc9b8-b45a-4151-ab5b-87dc640b6827",
   "metadata": {},
   "source": [
    "## Introduction\n",
    "\n",
    "### Description of Heart Disease dataset\n",
    "\n",
    "The Heart Disease dataset is a collection of medical data from patients with suspected heart disease. It contains various attributes such as age, sex, blood pressure, and cholesterol levels, among others, as well as the presence or absence of heart disease. This dataset is commonly used for classification tasks in machine learning and is often used to predict the presence of heart disease in patients based on their medical history and physical characteristics. The dataset has been extensively studied and is a popular benchmark dataset in the machine learning community."
   ]
  },
  {
   "cell_type": "markdown",
   "id": "27f238d0-8597-4fd3-9116-5feaca7268b9",
   "metadata": {},
   "source": [
    "### Importing necessery libraries and download the dataset\n",
    "\n",
    "In this section, we will import the required libraries and download the Heart Disease dataset.\n",
    "\n",
    "#### Importing Libraries\n",
    "We will begin by importing the necessary libraries required for our analysis. These include:\n",
    "\n",
    "- SparkSession: used for start and mantain a spark session\n",
    "- RFormula: used for transform the dataset in something meaninful to spark\n",
    "- StandardScaler: used for scaler the dataset\n",
    "- FMClassifier: used for construct the model\n",
    "- Pipeline: used for create a pipeline\n",
    "- skelearn: only used here to easy create a confusion matrix\n",
    "- ParamGridBuilder: used for tuning the hyperparams of the model\n",
    "- TrainValidationSplit: used for crossvalidation and select best hyperparams\n",
    "- matplotlib: used for data visualization"
   ]
  },
  {
   "cell_type": "code",
   "execution_count": 1,
   "id": "ab8b2076-4d31-40a0-a419-b0246dd1cc8f",
   "metadata": {
    "tags": []
   },
   "outputs": [],
   "source": [
    "from pyspark.sql import SparkSession\n",
    "from pyspark.ml.feature import RFormula\n",
    "from pyspark.ml.feature import StandardScaler, MinMaxScaler\n",
    "from pyspark.ml.classification import FMClassifier\n",
    "from pyspark.ml import Pipeline\n",
    "from pyspark.ml.evaluation import BinaryClassificationEvaluator\n",
    "import matplotlib.pyplot as plt\n",
    "from sklearn import metrics\n",
    "from pyspark.ml.tuning import ParamGridBuilder\n",
    "from pyspark.ml.tuning import TrainValidationSplit\n",
    "from pyspark.sql.functions import when"
   ]
  },
  {
   "cell_type": "markdown",
   "id": "d7579cd2-9b2a-4be9-b86f-b565480a0c51",
   "metadata": {},
   "source": [
    "#### Downloading the Heart Disease dataset\n",
    "Next, we will download the Heart Disease dataset using the curl command. The dataset is available in a CSV format and will be stored in a pandas dataframe for further analysis. We will also print out some summary statistics of the dataset to gain a better understanding of its structure and features.\n",
    "\n",
    "Each column represents the following information:\n",
    "\n",
    "- age: age of the patient\n",
    "- sex: sex of the patient (1 = male; 0 = female)\n",
    "- cp: chest pain type (0 = typical angina; 1 = atypical angina; 2 = non-anginal pain; 3 = asymptomatic)\n",
    "- trestbps: resting blood pressure (in mm Hg)\n",
    "- chol: serum cholesterol (in mg/dl)\n",
    "- fbs: fasting blood sugar > 120 mg/dl (1 = true; 0 = false)\n",
    "- restecg: resting electrocardiographic results (0 = normal; 1 = having ST-T wave abnormality; 2 = showing probable or definite left ventricular hypertrophy)\n",
    "- thalach: maximum heart rate achieved\n",
    "- exang: exercise induced angina (1 = yes; 0 = no)\n",
    "- oldpeak: ST depression induced by exercise relative to rest\n",
    "- slope: the slope of the peak exercise ST segment (0 = upsloping; 1 = flat; 2 = downsloping)\n",
    "- ca: number of major vessels (0-3) colored by flourosopy\n",
    "- thal: 3 = normal; 6 = fixed defect; 7 = reversable defect\n",
    "- target: presence of heart disease (0 = absence, 1-4 = presence, representing different degrees of severity)"
   ]
  },
  {
   "cell_type": "code",
   "execution_count": 2,
   "id": "ac7a20e5-6c8d-44b1-99b2-06b009a8bf33",
   "metadata": {
    "tags": []
   },
   "outputs": [
    {
     "name": "stdout",
     "output_type": "stream",
     "text": [
      "  % Total    % Received % Xferd  Average Speed   Time    Time     Time  Current\n",
      "                                 Dload  Upload   Total   Spent    Left  Speed\n",
      "100 18461  100 18461    0     0  15176      0  0:00:01  0:00:01 --:--:-- 15181\n"
     ]
    }
   ],
   "source": [
    "! curl https://archive.ics.uci.edu/ml/machine-learning-databases/heart-disease/processed.cleveland.data  --output heart.csv"
   ]
  },
  {
   "cell_type": "code",
   "execution_count": 2,
   "id": "b4f4c966-9aeb-4675-98f8-4eb7f0d69e6e",
   "metadata": {
    "tags": []
   },
   "outputs": [
    {
     "name": "stdout",
     "output_type": "stream",
     "text": [
      "+----+---+---+--------+-----+---+-------+-------+-----+-------+-----+---+----+------+\n",
      "| age|sex| cp|trestbps| chol|fbs|restecg|thalach|exang|oldpeak|slope| ca|thal|target|\n",
      "+----+---+---+--------+-----+---+-------+-------+-----+-------+-----+---+----+------+\n",
      "|63.0|1.0|1.0|   145.0|233.0|1.0|    2.0|  150.0|  0.0|    2.3|  3.0|0.0| 6.0|   0.0|\n",
      "|67.0|1.0|4.0|   160.0|286.0|0.0|    2.0|  108.0|  1.0|    1.5|  2.0|3.0| 3.0|   2.0|\n",
      "|67.0|1.0|4.0|   120.0|229.0|0.0|    2.0|  129.0|  1.0|    2.6|  2.0|2.0| 7.0|   1.0|\n",
      "|37.0|1.0|3.0|   130.0|250.0|0.0|    0.0|  187.0|  0.0|    3.5|  3.0|0.0| 3.0|   0.0|\n",
      "|41.0|0.0|2.0|   130.0|204.0|0.0|    2.0|  172.0|  0.0|    1.4|  1.0|0.0| 3.0|   0.0|\n",
      "+----+---+---+--------+-----+---+-------+-------+-----+-------+-----+---+----+------+\n",
      "only showing top 5 rows\n",
      "\n"
     ]
    }
   ],
   "source": [
    "schema_heart = 'age FLOAT, sex FLOAT, cp FLOAT, trestbps FLOAT, chol FLOAT, fbs FLOAT, restecg FLOAT, thalach FLOAT, exang FLOAT, oldpeak FLOAT, slope FLOAT, ca FLOAT, thal FLOAT, target FLOAT'\n",
    "\n",
    "# init SparkSession\n",
    "spark = SparkSession.builder.appName('FMClassifier').getOrCreate()\n",
    "# read the csv using pyspark\n",
    "heart = spark.read.csv('./heart.csv', schema=schema_heart, header=False)\n",
    "\n",
    "# print few lines of the dataframe\n",
    "heart.show(5)"
   ]
  },
  {
   "cell_type": "markdown",
   "id": "67ebe2d3-cd82-4101-884c-021b765f1590",
   "metadata": {},
   "source": [
    "## Exploratory Data Analysis\n",
    "\n",
    "### Summary statistics of the dataset\n",
    "\n",
    "In this section, we will explore the iris datasets giving some statistic description like mean, std, etc."
   ]
  },
  {
   "cell_type": "code",
   "execution_count": 3,
   "id": "3281cbb3-c79b-4f98-ab3e-3b3d66c43e30",
   "metadata": {
    "tags": []
   },
   "outputs": [
    {
     "name": "stdout",
     "output_type": "stream",
     "text": [
      "+-------+-----+-----+-----+--------+------+-----+-------+-------+-----+-------+-----+-----+-----+------+\n",
      "|summary|  age|  sex|   cp|trestbps|  chol|  fbs|restecg|thalach|exang|oldpeak|slope|   ca| thal|target|\n",
      "+-------+-----+-----+-----+--------+------+-----+-------+-------+-----+-------+-----+-----+-----+------+\n",
      "|  count|303.0|303.0|303.0|   303.0| 303.0|303.0|  303.0|  303.0|303.0|  303.0|303.0|299.0|301.0| 303.0|\n",
      "|   mean|54.44| 0.68| 3.16|  131.69|246.69| 0.15|   0.99| 149.61| 0.33|   1.04|  1.6| 0.67| 4.73|  0.94|\n",
      "| stddev| 9.04| 0.47| 0.96|    17.6| 51.78| 0.36|   0.99|  22.88| 0.47|   1.16| 0.62| 0.94| 1.94|  1.23|\n",
      "|    min| 29.0|  0.0|  1.0|    94.0| 126.0|  0.0|    0.0|   71.0|  0.0|    0.0|  1.0|  0.0|  3.0|   0.0|\n",
      "|    max| 77.0|  1.0|  4.0|   200.0| 564.0|  1.0|    2.0|  202.0|  1.0|    6.2|  3.0|  3.0|  7.0|   4.0|\n",
      "+-------+-----+-----+-----+--------+------+-----+-------+-------+-----+-------+-----+-----+-----+------+\n",
      "\n"
     ]
    }
   ],
   "source": [
    "from pyspark.sql.functions import round\n",
    "heart.describe().select(['summary'] + [round(c, 2).alias(c) for c in heart.columns]).show()"
   ]
  },
  {
   "cell_type": "markdown",
   "id": "ec191b69-bf14-4772-b38e-1c4c791ddc34",
   "metadata": {},
   "source": [
    "We want only to detect if the target pacient has or no a heart desease then we will change the target colunm"
   ]
  },
  {
   "cell_type": "code",
   "execution_count": 4,
   "id": "fa09a3f1-79a2-4b35-8954-45afa33e4385",
   "metadata": {
    "tags": []
   },
   "outputs": [],
   "source": [
    "heart = heart.withColumn(\"target_binary\", when(heart[\"target\"] != 0, 1).otherwise(0))"
   ]
  },
  {
   "cell_type": "code",
   "execution_count": 5,
   "id": "3c1e08dd-f53c-4932-a2bc-0643f49b5b1e",
   "metadata": {
    "tags": []
   },
   "outputs": [],
   "source": [
    "train, test = heart.randomSplit([0.8, 0.2])"
   ]
  },
  {
   "cell_type": "markdown",
   "id": "493e6583-0fc4-4885-bde1-11296bb3fb29",
   "metadata": {},
   "source": [
    "### Preprocessing the data (e.g., scaling, normalization, encoding)\n",
    "\n",
    "Here we will use the RFormula to separate and treat the dataframe and the MinMaxScaller"
   ]
  },
  {
   "cell_type": "code",
   "execution_count": 6,
   "id": "d399182f-e2f1-4016-935b-d8d3613736fd",
   "metadata": {
    "tags": []
   },
   "outputs": [
    {
     "name": "stdout",
     "output_type": "stream",
     "text": [
      "+--------------------------------------------------------------------------+-----+\n",
      "|features                                                                  |label|\n",
      "+--------------------------------------------------------------------------+-----+\n",
      "|[29.0,1.0,2.0,130.0,204.0,0.0,2.0,202.0,0.0,0.0,1.0,0.0,3.0]              |0.0  |\n",
      "|[34.0,0.0,2.0,118.0,210.0,0.0,0.0,192.0,0.0,0.699999988079071,1.0,0.0,3.0]|0.0  |\n",
      "|[34.0,1.0,1.0,118.0,182.0,0.0,2.0,174.0,0.0,0.0,1.0,0.0,3.0]              |0.0  |\n",
      "|[35.0,0.0,4.0,138.0,183.0,0.0,0.0,182.0,0.0,1.399999976158142,1.0,0.0,3.0]|0.0  |\n",
      "|[35.0,1.0,2.0,122.0,192.0,0.0,0.0,174.0,0.0,0.0,1.0,0.0,3.0]              |0.0  |\n",
      "+--------------------------------------------------------------------------+-----+\n",
      "only showing top 5 rows\n",
      "\n"
     ]
    }
   ],
   "source": [
    "formula = RFormula(formula='target_binary ~ . - target', featuresCol='features', labelCol='label', handleInvalid = \"skip\")\n",
    "# only to see if everything is ok\n",
    "formula.fit(train).transform(train).select('features', 'label').show(5, truncate=False)"
   ]
  },
  {
   "cell_type": "code",
   "execution_count": 7,
   "id": "12d0d939-d4bc-46e5-92a9-5f19a01dbe2b",
   "metadata": {
    "tags": []
   },
   "outputs": [
    {
     "name": "stdout",
     "output_type": "stream",
     "text": [
      "+--------------------+--------------------+\n",
      "|            features|      scaledFeatures|\n",
      "+--------------------+--------------------+\n",
      "|[29.0,1.0,2.0,130...|[3.14831060805122...|\n",
      "|[34.0,0.0,2.0,118...|[3.69112278185315...|\n",
      "|[34.0,1.0,1.0,118...|[3.69112278185315...|\n",
      "|[35.0,0.0,4.0,138...|[3.79968521661354...|\n",
      "|[35.0,1.0,2.0,122...|[3.79968521661354...|\n",
      "|[35.0,1.0,4.0,120...|[3.79968521661354...|\n",
      "|[35.0,1.0,4.0,126...|[3.79968521661354...|\n",
      "|(13,[0,2,3,4,7,10...|(13,[0,2,3,4,7,10...|\n",
      "|[37.0,1.0,3.0,130...|[4.01681008613431...|\n",
      "|[38.0,1.0,1.0,120...|[4.12537252089470...|\n",
      "|[39.0,1.0,3.0,140...|[4.23393495565509...|\n",
      "|[39.0,1.0,4.0,118...|[4.23393495565509...|\n",
      "|[40.0,1.0,1.0,140...|[4.34249739041547...|\n",
      "|[40.0,1.0,4.0,110...|[4.34249739041547...|\n",
      "|[40.0,1.0,4.0,152...|[4.34249739041547...|\n",
      "|[41.0,0.0,2.0,105...|[4.45105982517586...|\n",
      "|[41.0,0.0,3.0,112...|[4.45105982517586...|\n",
      "|[41.0,1.0,2.0,110...|[4.45105982517586...|\n",
      "|[41.0,1.0,2.0,120...|[4.45105982517586...|\n",
      "|[41.0,1.0,2.0,135...|[4.45105982517586...|\n",
      "+--------------------+--------------------+\n",
      "only showing top 20 rows\n",
      "\n"
     ]
    }
   ],
   "source": [
    "# IMPORTANT only fit the scaler using the training set\n",
    "temp = formula.fit(train).transform(train)\n",
    "scaler = StandardScaler(inputCol='features', outputCol='scaledFeatures', )\n",
    "# only to see if everything is ok\n",
    "scaler.fit(temp).transform(temp).select('features', 'scaledFeatures').show()"
   ]
  },
  {
   "cell_type": "markdown",
   "id": "fd4f480f-a07c-48d7-8100-d024e6b226f3",
   "metadata": {},
   "source": [
    "## Model Training\n",
    " Here we will build the model and create the pipeline that will be trained\n",
    " \n",
    "### Building a FM Classification"
   ]
  },
  {
   "cell_type": "code",
   "execution_count": 8,
   "id": "4e8dd22c-4e5a-4b00-8dcd-76fcf95a8499",
   "metadata": {
    "tags": []
   },
   "outputs": [],
   "source": [
    "fm = FMClassifier(labelCol=\"label\", featuresCol=\"scaledFeatures\", stepSize=0.001)"
   ]
  },
  {
   "cell_type": "code",
   "execution_count": 9,
   "id": "0dcae7df-6846-4e48-bf65-4ace732585c9",
   "metadata": {
    "tags": []
   },
   "outputs": [],
   "source": [
    "# building all together\n",
    "pipeline = Pipeline(stages=[formula, scaler, fm])"
   ]
  },
  {
   "cell_type": "markdown",
   "id": "c5bf1edb-5f1b-4c35-9e87-4bd4b6fbfc16",
   "metadata": {},
   "source": [
    "### Training the model on the training set"
   ]
  },
  {
   "cell_type": "code",
   "execution_count": 10,
   "id": "e344d737-2a5c-4767-a9e3-e873b7e08134",
   "metadata": {
    "tags": []
   },
   "outputs": [],
   "source": [
    "model = pipeline.fit(train)"
   ]
  },
  {
   "cell_type": "markdown",
   "id": "b010f578-dcde-4e4b-8636-8a1c03db9886",
   "metadata": {},
   "source": [
    "### Evaluating the performance of the model on the test set "
   ]
  },
  {
   "cell_type": "code",
   "execution_count": 11,
   "id": "fd070118-c43b-4ffb-ad16-a9d9b0df0627",
   "metadata": {
    "tags": []
   },
   "outputs": [
    {
     "name": "stdout",
     "output_type": "stream",
     "text": [
      "Area under PR = 0.9499325269637399\n",
      "Area under ROC = 0.9591836734693877\n"
     ]
    }
   ],
   "source": [
    "prd = model.transform(test)\n",
    "\n",
    "evaluator = BinaryClassificationEvaluator()\n",
    "\n",
    "# Area under precision-recall curve\n",
    "print(\"Area under PR = %s\" % evaluator.evaluate(prd, {evaluator.metricName: \"areaUnderPR\"}))\n",
    "\n",
    "# Area under ROC curve\n",
    "print(\"Area under ROC = %s\" % evaluator.evaluate(prd, {evaluator.metricName: \"areaUnderROC\"}))"
   ]
  },
  {
   "cell_type": "code",
   "execution_count": 12,
   "id": "0b615ff7-5d49-4451-b049-bc5b2eae0fad",
   "metadata": {
    "tags": []
   },
   "outputs": [
    {
     "name": "stdout",
     "output_type": "stream",
     "text": [
      "+----------+-----+\n",
      "|prediction|label|\n",
      "+----------+-----+\n",
      "|       0.0|  0.0|\n",
      "|       0.0|  0.0|\n",
      "|       0.0|  0.0|\n",
      "|       0.0|  0.0|\n",
      "|       0.0|  0.0|\n",
      "+----------+-----+\n",
      "only showing top 5 rows\n",
      "\n"
     ]
    }
   ],
   "source": [
    "prd.select('prediction', 'label').show(5)"
   ]
  },
  {
   "cell_type": "markdown",
   "id": "2c057097-8d44-4d47-9f89-2b2f037e7f10",
   "metadata": {},
   "source": [
    "## Model Tuning and Interpretation\n",
    "\n",
    "Fine-tuning the model (e.g., hyperparameter tuning)"
   ]
  },
  {
   "cell_type": "code",
   "execution_count": 13,
   "id": "c0eddfa5-810c-46ed-b87c-0171ce2a7ff2",
   "metadata": {
    "tags": []
   },
   "outputs": [],
   "source": [
    "fm_param_builder = (ParamGridBuilder() \n",
    "        .addGrid(fm.regParam, [0.01, 0.1, 1.0]) \n",
    "        .addGrid(fm.stepSize, [0.01, 0.1, 1.0]) \n",
    "        .addGrid(fm.solver, ['gd', 'adamW'])\n",
    "        .build())\n",
    "pipeline = Pipeline(stages=[formula, scaler, fm])\n",
    "tvs = TrainValidationSplit(estimator=pipeline, estimatorParamMaps=fm_param_builder, evaluator=evaluator, trainRatio=0.8)"
   ]
  },
  {
   "cell_type": "code",
   "execution_count": 14,
   "id": "2a56d79c-025f-403f-ac0e-019b08b4b2bf",
   "metadata": {
    "tags": []
   },
   "outputs": [
    {
     "name": "stdout",
     "output_type": "stream",
     "text": [
      "+----------+-----+\n",
      "|prediction|label|\n",
      "+----------+-----+\n",
      "|       0.0|  0.0|\n",
      "|       0.0|  0.0|\n",
      "|       0.0|  0.0|\n",
      "|       0.0|  0.0|\n",
      "|       0.0|  0.0|\n",
      "+----------+-----+\n",
      "only showing top 5 rows\n",
      "\n"
     ]
    }
   ],
   "source": [
    "model2 = tvs.fit(train)\n",
    "prd2 = model2.transform(test)\n",
    "prd2.select('prediction', 'label').show(5)"
   ]
  },
  {
   "cell_type": "code",
   "execution_count": 15,
   "id": "92d645d1-6dcd-4673-a118-e7ab64b63279",
   "metadata": {
    "tags": []
   },
   "outputs": [
    {
     "name": "stdout",
     "output_type": "stream",
     "text": [
      "Area under PR = 0.9073974529912969\n",
      "Area under ROC = 0.9217687074829931\n"
     ]
    }
   ],
   "source": [
    "# Area under precision-recall curve\n",
    "print(\"Area under PR = %s\" % evaluator.evaluate(prd2, {evaluator.metricName: \"areaUnderPR\"}))\n",
    "\n",
    "# Area under ROC curve\n",
    "print(\"Area under ROC = %s\" % evaluator.evaluate(prd2, {evaluator.metricName: \"areaUnderROC\"}))"
   ]
  },
  {
   "cell_type": "code",
   "execution_count": 16,
   "id": "7ff7059c-0f52-454e-80d2-99bfd33df67b",
   "metadata": {
    "tags": []
   },
   "outputs": [
    {
     "data": {
      "image/png": "[encoded data removed]",
      "text/plain": [
       "<Figure size 640x480 with 2 Axes>"
      ]
     },
     "metadata": {},
     "output_type": "display_data"
    }
   ],
   "source": [
    "from sklearn import metrics\n",
    "import matplotlib.pyplot as plt\n",
    "\n",
    "df_prd = prd.select('label', 'prediction').toPandas()\n",
    "cm = metrics.confusion_matrix(df_prd['label'], df_prd['prediction'])\n",
    "cm_display = metrics.ConfusionMatrixDisplay(confusion_matrix = cm, display_labels=['absence','desease'])\n",
    "cm_display.plot()\n",
    "plt.show()"
   ]
  },
  {
   "cell_type": "code",
   "execution_count": 17,
   "id": "0b3a0095-c7c2-4774-ac34-ab0597d4bb10",
   "metadata": {
    "tags": []
   },
   "outputs": [
    {
     "data": {
      "image/png": "[encoded data removed]",
      "text/plain": [
       "<Figure size 640x480 with 2 Axes>"
      ]
     },
     "metadata": {},
     "output_type": "display_data"
    }
   ],
   "source": [
    "df_prd2 = prd2.select('label', 'prediction').toPandas()\n",
    "cm = metrics.confusion_matrix(df_prd2['label'], df_prd2['prediction'])\n",
    "cm_display = metrics.ConfusionMatrixDisplay(confusion_matrix = cm, display_labels=['absence','desease'])\n",
    "cm_display.plot()\n",
    "plt.show()"
   ]
  },
  {
   "cell_type": "code",
   "execution_count": null,
   "id": "34e78615-1e48-45e6-9b19-42319876ad1e",
   "metadata": {},
   "outputs": [],
   "source": []
  }
 ],
 "metadata": {
  "kernelspec": {
   "display_name": "Python 3 (ipykernel)",
   "language": "python",
   "name": "python3"
  },
  "language_info": {
   "codemirror_mode": {
    "name": "ipython",
    "version": 3
   },
   "file_extension": ".py",
   "mimetype": "text/x-python",
   "name": "python",
   "nbconvert_exporter": "python",
   "pygments_lexer": "ipython3",
   "version": "3.10.10"
  }
 },
 "nbformat": 4,
 "nbformat_minor": 5
}
