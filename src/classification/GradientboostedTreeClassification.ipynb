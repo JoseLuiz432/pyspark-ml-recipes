{
 "cells": [
  {
   "cell_type": "markdown",
   "id": "b3e5298b-161e-46f0-8afb-ffd71651869c",
   "metadata": {},
   "source": [
    "# Gradient Boosted Tree Classification\n",
    "\n",
    "Gradient Boosted Tree (GBT) is a popular machine learning algorithm used for classification problems. It is an ensemble method that combines multiple weak learners, in this case, decision trees, to create a stronger model that is capable of handling complex non-linear relationships between features and the target variable.\n",
    "\n",
    "In this Jupyter notebook, we will explore how to use GBT for classification problems using PySpark. Specifically, we will use the Wine dataset, which contains information about different types of wine, to build a GBT model that can predict the type of wine based on its physical and chemical characteristics. We will cover the following topics:\n",
    "\n",
    "- Loading and preparing the data\n",
    "- Training a GBT model using PySpark's MLlib library\n",
    "- Evaluating the model's performance using various metrics\n",
    "- Tuning the model's hyperparameters to improve its performance\n",
    "\n",
    "By the end of this notebook, you should have a good understanding of how GBT works and how to apply it to real-world classification problems using PySpark."
   ]
  },
  {
   "cell_type": "markdown",
   "id": "42931541-d5ff-452e-8389-8f5539733593",
   "metadata": {},
   "source": [
    "## Introduction\n",
    "\n",
    "The Wine dataset is a classic machine learning dataset that contains the results of a chemical analysis of wines grown in a specific area of Italy. The dataset consists of 178 samples, each representing a different wine. The chemical analysis determined the quantities of 13 constituents found in each of the three types of wines: \"Class 0\" (59 samples), \"Class 1\" (71 samples), and \"Class 2\" (48 samples). The attributes of the wine include things like alcohol content, malic acid, ash, and color intensity. This dataset is commonly used for classification problems and has been extensively studied in the machine learning literature.\n",
    "\n",
    "### Importing necessery libraries and download the dataset\n",
    "\n",
    "In this section, we will import the required libraries and download the Wine dataset.\n",
    "\n",
    "#### Importing Libraries\n",
    "We will begin by importing the necessary libraries required for our analysis. These include:\n",
    "\n",
    "- SparkSession: used for start and mantain a spark session\n",
    "- RFormula: used for transform the dataset in something meaninful to spark\n",
    "- StandardScaler: used for scaler the dataset\n",
    "- GBT: used for construct the model\n",
    "- Pipeline: used for create a pipeline\n",
    "- skelearn: only used here to easy create a confusion matrix\n",
    "- ParamGridBuilder: used for tuning the hyperparams of the model\n",
    "- TrainValidationSplit: used for crossvalidation and select best hyperparams\n",
    "- matplotlib: used for data visualization"
   ]
  },
  {
   "cell_type": "code",
   "execution_count": 1,
   "id": "3c730914-1b89-4534-904a-7e7d239530a2",
   "metadata": {
    "tags": []
   },
   "outputs": [],
   "source": [
    "from pyspark.sql import SparkSession\n",
    "from pyspark.ml.feature import RFormula\n",
    "from pyspark.ml.feature import StandardScaler, MinMaxScaler\n",
    "from pyspark.ml.classification import GBTClassifier\n",
    "from pyspark.ml import Pipeline\n",
    "from pyspark.ml.evaluation import BinaryClassificationEvaluator\n",
    "import matplotlib.pyplot as plt\n",
    "from sklearn import metrics\n",
    "from pyspark.ml.tuning import ParamGridBuilder\n",
    "from pyspark.ml.tuning import TrainValidationSplit\n",
    "from pyspark.sql.functions import when"
   ]
  },
  {
   "cell_type": "markdown",
   "id": "15b46ad7-85ab-44e7-a15f-9251bb730548",
   "metadata": {},
   "source": [
    "#### Downloading the Wine dataset\n",
    "Next, we will download the Wine dataset using the curl command. The dataset is available in a CSV format.\n",
    "\n",
    "Each column represents the following information:\n",
    "\n",
    "1. alcohol: the percentage of alcohol content in the wine\n",
    "2. malic_acid: the amount of malic acid in the wine\n",
    "3. ash: the amount of ash in the wine\n",
    "4. alcalinity_of_ash: the level of alkalinity of ash in the wine\n",
    "5. magnesium: the amount of magnesium in the wine\n",
    "6. total_phenols: the total amount of phenols in the wine\n",
    "7. flavanoids: the amount of flavonoids in the wine\n",
    "8. nonflavanoid_phenols: the total amount of non-flavonoid phenols in the wine\n",
    "9. proanthocyanins: the amount of proanthocyanins in the wine\n",
    "10. color_intensity: the intensity of color in the wine\n",
    "11. hue: the hue of the wine\n",
    "12. od280/od315_of_diluted_wines: the OD280/OD315 ratio of the diluted wines\n",
    "13. proline: the amount of proline in the wine\n",
    "\n",
    "The target variable is the class column, which represents the class of the wine. There are three classes of wine in this dataset:\n",
    "\n",
    "- class_0: Wine produced in the region of Barolo in Italy\n",
    "- class_1: Wine produced in the region of Grignolino d'Asti in Italy\n",
    "- class_2: Wine produced in the region of Barbera in Italy"
   ]
  },
  {
   "cell_type": "code",
   "execution_count": 2,
   "id": "dc75bed2-78ae-42ba-8126-cb6c970532fb",
   "metadata": {
    "tags": []
   },
   "outputs": [
    {
     "name": "stdout",
     "output_type": "stream",
     "text": [
      "  % Total    % Received % Xferd  Average Speed   Time    Time     Time  Current\n",
      "                                 Dload  Upload   Total   Spent    Left  Speed\n",
      "100 10782  100 10782    0     0   8006      0  0:00:01  0:00:01 --:--:--  8004\n"
     ]
    }
   ],
   "source": [
    "! curl https://archive.ics.uci.edu/ml/machine-learning-databases/wine/wine.data -o wine.csv"
   ]
  },
  {
   "cell_type": "code",
   "execution_count": 3,
   "id": "526d02b5-795b-4cbe-997a-3f6065f82b1b",
   "metadata": {
    "tags": []
   },
   "outputs": [
    {
     "name": "stdout",
     "output_type": "stream",
     "text": [
      "+-----+-------+----------+----+----------+---------+-------------+----------+--------------------+---------------+---------------+----+----+-------+\n",
      "|class|alcohol|malic_acid| ash|alcalinity|magnesium|total_phenols|flavanoids|nonflavanoid_phenols|proanthocyanins|color_intensity| hue|  od|proline|\n",
      "+-----+-------+----------+----+----------+---------+-------------+----------+--------------------+---------------+---------------+----+----+-------+\n",
      "|    1|  14.23|      1.71|2.43|      15.6|    127.0|          2.8|      3.06|                0.28|           2.29|           5.64|1.04|3.92| 1065.0|\n",
      "|    1|   13.2|      1.78|2.14|      11.2|    100.0|         2.65|      2.76|                0.26|           1.28|           4.38|1.05| 3.4| 1050.0|\n",
      "|    1|  13.16|      2.36|2.67|      18.6|    101.0|          2.8|      3.24|                 0.3|           2.81|           5.68|1.03|3.17| 1185.0|\n",
      "|    1|  14.37|      1.95| 2.5|      16.8|    113.0|         3.85|      3.49|                0.24|           2.18|            7.8|0.86|3.45| 1480.0|\n",
      "|    1|  13.24|      2.59|2.87|      21.0|    118.0|          2.8|      2.69|                0.39|           1.82|           4.32|1.04|2.93|  735.0|\n",
      "+-----+-------+----------+----+----------+---------+-------------+----------+--------------------+---------------+---------------+----+----+-------+\n",
      "only showing top 5 rows\n",
      "\n"
     ]
    }
   ],
   "source": [
    "schema = 'class INT, alcohol FLOAT, malic_acid FLOAT, ash FLOAT, alcalinity FLOAT, magnesium FLOAT, total_phenols FLOAT, flavanoids FLOAT, nonflavanoid_phenols FLOAT, proanthocyanins FLOAT, color_intensity FLOAT, hue FLOAT, od FLOAT, proline FLOAT'\n",
    "# init SparkSession\n",
    "spark = SparkSession.builder.appName('GBTClassifier').getOrCreate()\n",
    "# read the csv using pyspark\n",
    "wine = spark.read.csv('./wine.csv', schema=schema, header=False)\n",
    "\n",
    "# print few lines of the dataframe\n",
    "wine.show(5)"
   ]
  },
  {
   "cell_type": "markdown",
   "id": "741c1faa-4a12-44e9-be0b-8baf87fd7a48",
   "metadata": {},
   "source": [
    "## Exploratory Data Analysis\n",
    "\n",
    "### Summary statistics of the dataset\n",
    "\n",
    "In this section, we will explore the iris datasets giving some statistic description like mean, std, etc."
   ]
  },
  {
   "cell_type": "code",
   "execution_count": 4,
   "id": "479db9d3-6741-4f25-b007-75608b6a27dc",
   "metadata": {
    "tags": []
   },
   "outputs": [
    {
     "name": "stdout",
     "output_type": "stream",
     "text": [
      "+-------+-------+----------+-----+----------+---------+-------------+----------+--------------------+---------------+---------------+-----+-----+-------+\n",
      "|summary|alcohol|malic_acid|  ash|alcalinity|magnesium|total_phenols|flavanoids|nonflavanoid_phenols|proanthocyanins|color_intensity|  hue|   od|proline|\n",
      "+-------+-------+----------+-----+----------+---------+-------------+----------+--------------------+---------------+---------------+-----+-----+-------+\n",
      "|  count|  178.0|     178.0|178.0|     178.0|    178.0|        178.0|     178.0|               178.0|          178.0|          178.0|178.0|178.0|  178.0|\n",
      "|   mean|   13.0|      2.34| 2.37|     19.49|    99.74|          2.3|      2.03|                0.36|           1.59|           5.06| 0.96| 2.61| 746.89|\n",
      "| stddev|   0.81|      1.12| 0.27|      3.34|    14.28|         0.63|       1.0|                0.12|           0.57|           2.32| 0.23| 0.71| 314.91|\n",
      "|    min|  11.03|      0.74| 1.36|      10.6|     70.0|         0.98|      0.34|                0.13|           0.41|           1.28| 0.48| 1.27|  278.0|\n",
      "|    max|  14.83|       5.8| 3.23|      30.0|    162.0|         3.88|      5.08|                0.66|           3.58|           13.0| 1.71|  4.0| 1680.0|\n",
      "+-------+-------+----------+-----+----------+---------+-------------+----------+--------------------+---------------+---------------+-----+-----+-------+\n",
      "\n"
     ]
    }
   ],
   "source": [
    "from pyspark.sql.functions import round\n",
    "temp = wine.drop('class')\n",
    "temp.describe().select(['summary'] + [round(c, 2).alias(c) for c in temp.columns]).show()"
   ]
  },
  {
   "cell_type": "code",
   "execution_count": 5,
   "id": "d69ad55d-2978-4f78-a55e-c69513b8dd66",
   "metadata": {
    "tags": []
   },
   "outputs": [
    {
     "name": "stdout",
     "output_type": "stream",
     "text": [
      "+-----+\n",
      "|class|\n",
      "+-----+\n",
      "|    1|\n",
      "|    3|\n",
      "|    2|\n",
      "+-----+\n",
      "\n"
     ]
    }
   ],
   "source": [
    "wine.select('class').distinct().show()"
   ]
  },
  {
   "cell_type": "markdown",
   "id": "b28d75a4-3486-4246-9eb1-44dba28f71df",
   "metadata": {},
   "source": [
    "In order to run GBT on the dataset, we will need to reduce it to only two classes, as currently it only supports binary classification."
   ]
  },
  {
   "cell_type": "code",
   "execution_count": 6,
   "id": "a4e0ce5f-3765-4a25-8833-d2d990642dd9",
   "metadata": {
    "tags": []
   },
   "outputs": [],
   "source": [
    "from pyspark.sql.functions import col\n",
    "wine_reduced = wine.filter(col('class') != 3)"
   ]
  },
  {
   "cell_type": "code",
   "execution_count": 7,
   "id": "9251ea64-1cf3-424b-9f7a-4d089a1246b8",
   "metadata": {
    "tags": []
   },
   "outputs": [],
   "source": [
    "wine_reduced = wine_reduced.withColumn(\"class_binary\", when(wine_reduced[\"class\"] != 1, 1).otherwise(0))"
   ]
  },
  {
   "cell_type": "markdown",
   "id": "5acdf5ab-933e-4444-aee5-e978f4706f28",
   "metadata": {},
   "source": [
    "### Preprocessing the data (e.g., scaling, normalization, encoding)\n",
    "\n",
    "Here we will use the RFormula to separate and treat the dataframe and the MinMaxScaller"
   ]
  },
  {
   "cell_type": "code",
   "execution_count": 8,
   "id": "d7cb757a-4515-4df8-ae6b-ba9db1a18573",
   "metadata": {
    "tags": []
   },
   "outputs": [],
   "source": [
    "train, test = wine_reduced.randomSplit([0.8, 0.2])"
   ]
  },
  {
   "cell_type": "code",
   "execution_count": 9,
   "id": "6a205125-2c1d-4273-89e6-50b948cf1c94",
   "metadata": {
    "tags": []
   },
   "outputs": [
    {
     "name": "stdout",
     "output_type": "stream",
     "text": [
      "+--------------------+-----+\n",
      "|            features|label|\n",
      "+--------------------+-----+\n",
      "|[12.8500003814697...|  0.0|\n",
      "|[12.9300003051757...|  0.0|\n",
      "|[13.0500001907348...|  0.0|\n",
      "|[13.0500001907348...|  0.0|\n",
      "|[13.0500001907348...|  0.0|\n",
      "+--------------------+-----+\n",
      "only showing top 5 rows\n",
      "\n"
     ]
    }
   ],
   "source": [
    "formula = RFormula(formula='class_binary ~ . - class', featuresCol='features', labelCol='label', handleInvalid = \"skip\")\n",
    "# only to see if everything is ok\n",
    "formula.fit(train).transform(train).select('features', 'label').show(5)"
   ]
  },
  {
   "cell_type": "code",
   "execution_count": 10,
   "id": "e469ead9-b7bd-472a-93c2-6ebb988af012",
   "metadata": {
    "tags": []
   },
   "outputs": [
    {
     "name": "stdout",
     "output_type": "stream",
     "text": [
      "+--------------------+--------------------+\n",
      "|            features|      scaledFeatures|\n",
      "+--------------------+--------------------+\n",
      "|[12.8500003814697...|[14.3800912391781...|\n",
      "|[12.9300003051757...|[14.4696170109967...|\n",
      "|[13.0500001907348...|[14.6039056687246...|\n",
      "|[13.0500001907348...|[14.6039056687246...|\n",
      "|[13.0500001907348...|[14.6039056687246...|\n",
      "+--------------------+--------------------+\n",
      "only showing top 5 rows\n",
      "\n"
     ]
    }
   ],
   "source": [
    "# IMPORTANT only fit the scaler using the training set\n",
    "temp = formula.fit(train).transform(train)\n",
    "scaler = StandardScaler(inputCol='features', outputCol='scaledFeatures', )\n",
    "# only to see if everything is ok\n",
    "scaler.fit(temp).transform(temp).select('features', 'scaledFeatures').show(5)"
   ]
  },
  {
   "cell_type": "markdown",
   "id": "21b903f6-95eb-486b-aa06-8ea324eb4b93",
   "metadata": {},
   "source": [
    "## Model Training\n",
    " Here we will build the model and create the pipeline that will be trained\n",
    " \n",
    "### Building a GBT Classifier"
   ]
  },
  {
   "cell_type": "code",
   "execution_count": 11,
   "id": "c550c1db-d6b9-4ace-b0a1-f67f14dd2f9a",
   "metadata": {
    "tags": []
   },
   "outputs": [],
   "source": [
    "gbt = GBTClassifier(labelCol=\"label\", featuresCol=\"features\", maxIter=10)"
   ]
  },
  {
   "cell_type": "code",
   "execution_count": 12,
   "id": "4bad68e0-43eb-4f76-9fb0-55a40e8f9631",
   "metadata": {
    "tags": []
   },
   "outputs": [],
   "source": [
    "pipeline = Pipeline(stages=[formula, scaler, gbt])"
   ]
  },
  {
   "cell_type": "markdown",
   "id": "f9a25b54-1d6b-4a58-a6ce-26dee4bc93f3",
   "metadata": {},
   "source": [
    "### Training the model on training set"
   ]
  },
  {
   "cell_type": "code",
   "execution_count": 13,
   "id": "9aa64d2f-3f7e-4ff7-a097-df3717efcb64",
   "metadata": {
    "tags": []
   },
   "outputs": [],
   "source": [
    "model = pipeline.fit(train)"
   ]
  },
  {
   "cell_type": "markdown",
   "id": "29b24d49-ef4b-4dc3-a4e9-a1c437b88f29",
   "metadata": {},
   "source": [
    "### Evaluating the performance of the model"
   ]
  },
  {
   "cell_type": "code",
   "execution_count": 15,
   "id": "7288ff65-573b-4215-9c5a-645f60e4d12d",
   "metadata": {
    "tags": []
   },
   "outputs": [
    {
     "name": "stdout",
     "output_type": "stream",
     "text": [
      "Area under PR = 0.8694749457284476\n",
      "Area under ROC = 0.855263157894737\n"
     ]
    }
   ],
   "source": [
    "prd = model.transform(test)\n",
    "\n",
    "evaluator = BinaryClassificationEvaluator()\n",
    "\n",
    "# Area under precision-recall curve\n",
    "print(\"Area under PR = %s\" % evaluator.evaluate(prd, {evaluator.metricName: \"areaUnderPR\"}))\n",
    "\n",
    "# Area under ROC curve\n",
    "print(\"Area under ROC = %s\" % evaluator.evaluate(prd, {evaluator.metricName: \"areaUnderROC\"}))"
   ]
  },
  {
   "cell_type": "markdown",
   "id": "4aad5321-0711-445f-af26-b9818b3eccbc",
   "metadata": {},
   "source": [
    "## Model Tuning and Interpretation\n",
    "\n",
    "Fine-tuning the model (e.g., hyperparameter tuning)"
   ]
  },
  {
   "cell_type": "code",
   "execution_count": 18,
   "id": "b33319bf-2e7b-4479-bf1e-33e927320368",
   "metadata": {
    "tags": []
   },
   "outputs": [],
   "source": [
    "gbt_param_builder = (ParamGridBuilder()\n",
    "    .addGrid(gbt.maxDepth, [2, 5, 10])\n",
    "    .addGrid(gbt.maxBins, [10, 30, 40])\n",
    "    .addGrid(gbt.stepSize, [0.01, 0.1, 1.0])\n",
    "    .addGrid(gbt.maxIter, [5, 10, 50])\n",
    "    .addGrid(gbt.featureSubsetStrategy,['auto', 'all', 'onethird', 'sqrt', 'log2'])\n",
    "    .build())\n",
    "pipeline = Pipeline(stages=[formula, scaler, gbt])\n",
    "tvs = TrainValidationSplit(estimator=pipeline, estimatorParamMaps=gbt_param_builder, evaluator=evaluator, trainRatio=0.8)"
   ]
  },
  {
   "cell_type": "code",
   "execution_count": 19,
   "id": "282df928-4759-45d0-8e23-656816dca99a",
   "metadata": {
    "tags": []
   },
   "outputs": [
    {
     "name": "stdout",
     "output_type": "stream",
     "text": [
      "+----------+-----+\n",
      "|prediction|label|\n",
      "+----------+-----+\n",
      "|       0.0|  0.0|\n",
      "|       1.0|  0.0|\n",
      "|       1.0|  0.0|\n",
      "|       0.0|  0.0|\n",
      "|       0.0|  0.0|\n",
      "+----------+-----+\n",
      "only showing top 5 rows\n",
      "\n"
     ]
    }
   ],
   "source": [
    "model2 = tvs.fit(train)\n",
    "prd2 = model2.transform(test)\n",
    "prd2.select('prediction', 'label').show(5)"
   ]
  },
  {
   "cell_type": "code",
   "execution_count": 20,
   "id": "19995426-7aa7-4f9d-9f91-3d4e365363e9",
   "metadata": {
    "tags": []
   },
   "outputs": [
    {
     "name": "stdout",
     "output_type": "stream",
     "text": [
      "Area under PR = 0.8799034938790099\n",
      "Area under ROC = 0.8640350877192984\n"
     ]
    }
   ],
   "source": [
    "# Area under precision-recall curve\n",
    "print(\"Area under PR = %s\" % evaluator.evaluate(prd2, {evaluator.metricName: \"areaUnderPR\"}))\n",
    "\n",
    "# Area under ROC curve\n",
    "print(\"Area under ROC = %s\" % evaluator.evaluate(prd2, {evaluator.metricName: \"areaUnderROC\"}))"
   ]
  },
  {
   "cell_type": "code",
   "execution_count": 21,
   "id": "812ba262-0b78-4a2f-933a-9054381048a4",
   "metadata": {
    "tags": []
   },
   "outputs": [
    {
     "data": {
      "text/plain": [
       "{Param(parent='GBTClassifier_c5134e4e1bd7', name='cacheNodeIds', doc='If false, the algorithm will pass trees to executors to match instances with nodes. If true, the algorithm will cache node IDs for each instance. Caching can speed up training of deeper trees. Users can set how often should the cache be checkpointed or disable it by setting checkpointInterval.'): False,\n",
       " Param(parent='GBTClassifier_c5134e4e1bd7', name='checkpointInterval', doc='set checkpoint interval (>= 1) or disable checkpoint (-1). E.g. 10 means that the cache will get checkpointed every 10 iterations. Note: this setting will be ignored if the checkpoint directory is not set in the SparkContext.'): 10,\n",
       " Param(parent='GBTClassifier_c5134e4e1bd7', name='featureSubsetStrategy', doc=\"The number of features to consider for splits at each tree node. Supported options: 'auto' (choose automatically for task: If numTrees == 1, set to 'all'. If numTrees > 1 (forest), set to 'sqrt' for classification and to 'onethird' for regression), 'all' (use all features), 'onethird' (use 1/3 of the features), 'sqrt' (use sqrt(number of features)), 'log2' (use log2(number of features)), 'n' (when n is in the range (0, 1.0], use n * number of features. When n is in the range (1, number of features), use n features). default = 'auto'\"): 'auto',\n",
       " Param(parent='GBTClassifier_c5134e4e1bd7', name='featuresCol', doc='features column name.'): 'features',\n",
       " Param(parent='GBTClassifier_c5134e4e1bd7', name='impurity', doc='Criterion used for information gain calculation (case-insensitive). Supported options: variance'): 'variance',\n",
       " Param(parent='GBTClassifier_c5134e4e1bd7', name='labelCol', doc='label column name.'): 'label',\n",
       " Param(parent='GBTClassifier_c5134e4e1bd7', name='leafCol', doc='Leaf indices column name. Predicted leaf index of each instance in each tree by preorder.'): '',\n",
       " Param(parent='GBTClassifier_c5134e4e1bd7', name='lossType', doc='Loss function which GBT tries to minimize (case-insensitive). Supported options: logistic'): 'logistic',\n",
       " Param(parent='GBTClassifier_c5134e4e1bd7', name='maxBins', doc='Max number of bins for discretizing continuous features.  Must be >=2 and >= number of categories for any categorical feature.'): 10,\n",
       " Param(parent='GBTClassifier_c5134e4e1bd7', name='maxDepth', doc='Maximum depth of the tree. (>= 0) E.g., depth 0 means 1 leaf node; depth 1 means 1 internal node + 2 leaf nodes. Must be in range [0, 30].'): 2,\n",
       " Param(parent='GBTClassifier_c5134e4e1bd7', name='maxIter', doc='max number of iterations (>= 0).'): 5,\n",
       " Param(parent='GBTClassifier_c5134e4e1bd7', name='maxMemoryInMB', doc='Maximum memory in MB allocated to histogram aggregation. If too small, then 1 node will be split per iteration, and its aggregates may exceed this size.'): 256,\n",
       " Param(parent='GBTClassifier_c5134e4e1bd7', name='minInfoGain', doc='Minimum information gain for a split to be considered at a tree node.'): 0.0,\n",
       " Param(parent='GBTClassifier_c5134e4e1bd7', name='minInstancesPerNode', doc='Minimum number of instances each child must have after split. If a split causes the left or right child to have fewer than minInstancesPerNode, the split will be discarded as invalid. Should be >= 1.'): 1,\n",
       " Param(parent='GBTClassifier_c5134e4e1bd7', name='minWeightFractionPerNode', doc='Minimum fraction of the weighted sample count that each child must have after split. If a split causes the fraction of the total weight in the left or right child to be less than minWeightFractionPerNode, the split will be discarded as invalid. Should be in interval [0.0, 0.5).'): 0.0,\n",
       " Param(parent='GBTClassifier_c5134e4e1bd7', name='predictionCol', doc='prediction column name.'): 'prediction',\n",
       " Param(parent='GBTClassifier_c5134e4e1bd7', name='probabilityCol', doc='Column name for predicted class conditional probabilities. Note: Not all models output well-calibrated probability estimates! These probabilities should be treated as confidences, not precise probabilities.'): 'probability',\n",
       " Param(parent='GBTClassifier_c5134e4e1bd7', name='rawPredictionCol', doc='raw prediction (a.k.a. confidence) column name.'): 'rawPrediction',\n",
       " Param(parent='GBTClassifier_c5134e4e1bd7', name='seed', doc='random seed.'): 8412616005504591868,\n",
       " Param(parent='GBTClassifier_c5134e4e1bd7', name='stepSize', doc='Step size (a.k.a. learning rate) in interval (0, 1] for shrinking the contribution of each estimator.'): 0.01,\n",
       " Param(parent='GBTClassifier_c5134e4e1bd7', name='subsamplingRate', doc='Fraction of the training data used for learning each decision tree, in range (0, 1].'): 1.0,\n",
       " Param(parent='GBTClassifier_c5134e4e1bd7', name='validationTol', doc='Threshold for stopping early when fit with validation is used. If the error rate on the validation input changes by less than the validationTol, then learning will stop early (before `maxIter`). This parameter is ignored when fit without validation is used.'): 0.01}"
      ]
     },
     "execution_count": 21,
     "metadata": {},
     "output_type": "execute_result"
    }
   ],
   "source": [
    "# get the best model\n",
    "bestModel = model2.bestModel\n",
    "\n",
    "# get the best hyperparameters\n",
    "bestParams = bestModel.stages[-1].extractParamMap()\n",
    "bestParams"
   ]
  },
  {
   "cell_type": "code",
   "execution_count": 22,
   "id": "cd8a607d-19a2-4281-9cf6-0a785a67d3f4",
   "metadata": {
    "tags": []
   },
   "outputs": [
    {
     "data": {
      "image/png": "[encoded data removed]",
      "text/plain": [
       "<Figure size 640x480 with 2 Axes>"
      ]
     },
     "metadata": {},
     "output_type": "display_data"
    }
   ],
   "source": [
    "from sklearn import metrics\n",
    "import matplotlib.pyplot as plt\n",
    "\n",
    "df_prd = prd.select('label', 'prediction').toPandas()\n",
    "cm = metrics.confusion_matrix(df_prd['label'], df_prd['prediction'])\n",
    "cm_display = metrics.ConfusionMatrixDisplay(confusion_matrix = cm, display_labels=['Barolo','Grignolino'])\n",
    "cm_display.plot()\n",
    "plt.show()"
   ]
  },
  {
   "cell_type": "code",
   "execution_count": 23,
   "id": "348389a6-db04-4774-a596-520c928de130",
   "metadata": {
    "tags": []
   },
   "outputs": [
    {
     "data": {
      "image/png": "[encoded data removed]",
      "text/plain": [
       "<Figure size 640x480 with 2 Axes>"
      ]
     },
     "metadata": {},
     "output_type": "display_data"
    }
   ],
   "source": [
    "df_prd2 = prd2.select('label', 'prediction').toPandas()\n",
    "cm = metrics.confusion_matrix(df_prd2['label'], df_prd2['prediction'])\n",
    "cm_display = metrics.ConfusionMatrixDisplay(confusion_matrix = cm, display_labels=['Barolo','Grignolino'])\n",
    "cm_display.plot()\n",
    "plt.show()"
   ]
  },
  {
   "cell_type": "code",
   "execution_count": 28,
   "id": "01309e99-982b-4678-b523-9acc7e801db3",
   "metadata": {
    "tags": []
   },
   "outputs": [
    {
     "name": "stdout",
     "output_type": "stream",
     "text": [
      "GBTClassificationModel: uid = GBTClassifier_c5134e4e1bd7, numTrees=5, numClasses=2, numFeatures=13\n",
      "  Tree 0 (weight 1.0):\n",
      "    If (feature 12 <= 739.0)\n",
      "     Predict: 1.0\n",
      "    Else (feature 12 > 739.0)\n",
      "     If (feature 0 <= 12.580000400543213)\n",
      "      Predict: 1.0\n",
      "     Else (feature 0 > 12.580000400543213)\n",
      "      Predict: -1.0\n",
      "  Tree 1 (weight 0.01):\n",
      "    If (feature 12 <= 739.0)\n",
      "     Predict: 0.4768116880884702\n",
      "    Else (feature 12 > 739.0)\n",
      "     If (feature 0 <= 12.580000400543213)\n",
      "      Predict: 0.4768116880884702\n",
      "     Else (feature 0 > 12.580000400543213)\n",
      "      Predict: -0.47681168808847013\n",
      "  Tree 2 (weight 0.01):\n",
      "    If (feature 12 <= 739.0)\n",
      "     Predict: 0.4728212356428486\n",
      "    Else (feature 12 > 739.0)\n",
      "     If (feature 0 <= 12.580000400543213)\n",
      "      Predict: 0.4728212356428485\n",
      "     Else (feature 0 > 12.580000400543213)\n",
      "      Predict: -0.4728212356428486\n",
      "  Tree 3 (weight 0.01):\n",
      "    If (feature 12 <= 739.0)\n",
      "     Predict: 0.46889276927543944\n",
      "    Else (feature 12 > 739.0)\n",
      "     If (feature 0 <= 12.580000400543213)\n",
      "      Predict: 0.4688927692754395\n",
      "     Else (feature 0 > 12.580000400543213)\n",
      "      Predict: -0.46889276927543955\n",
      "  Tree 4 (weight 0.01):\n",
      "    If (feature 12 <= 739.0)\n",
      "     Predict: 0.46502492796918743\n",
      "    Else (feature 12 > 739.0)\n",
      "     If (feature 0 <= 12.580000400543213)\n",
      "      Predict: 0.4650249279691874\n",
      "     Else (feature 0 > 12.580000400543213)\n",
      "      Predict: -0.46502492796918743\n",
      "\n"
     ]
    }
   ],
   "source": [
    "print(bestModel.stages[-1].toDebugString)\n"
   ]
  },
  {
   "cell_type": "code",
   "execution_count": 29,
   "id": "a6b7b017-e466-481f-a11e-ee71663099b3",
   "metadata": {
    "tags": []
   },
   "outputs": [],
   "source": [
    "spark.stop()"
   ]
  },
  {
   "cell_type": "code",
   "execution_count": null,
   "id": "d5046c41-79d5-4e98-b32e-1eeb0ec82010",
   "metadata": {},
   "outputs": [],
   "source": []
  }
 ],
 "metadata": {
  "kernelspec": {
   "display_name": "Python 3 (ipykernel)",
   "language": "python",
   "name": "python3"
  },
  "language_info": {
   "codemirror_mode": {
    "name": "ipython",
    "version": 3
   },
   "file_extension": ".py",
   "mimetype": "text/x-python",
   "name": "python",
   "nbconvert_exporter": "python",
   "pygments_lexer": "ipython3",
   "version": "3.10.10"
  }
 },
 "nbformat": 4,
 "nbformat_minor": 5
}
