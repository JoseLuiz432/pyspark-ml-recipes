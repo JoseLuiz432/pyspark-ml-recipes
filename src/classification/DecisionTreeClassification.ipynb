{
 "cells": [
  {
   "cell_type": "markdown",
   "id": "b26d8716-b9d5-4bf3-844e-1abce6baca0e",
   "metadata": {},
   "source": [
    "# Decision Tree Classification\n",
    "\n",
    "Decision trees are a popular and effective machine learning technique used for classification problems. The basic idea of a decision tree is to recursively partition the data into subsets that are more homogeneous with respect to the target variable. At each node of the tree, a decision is made based on one of the features that is used to split the data into two or more subsets. This process continues until the data in each subset is as homogeneous as possible, or until some stopping criteria are met.\n",
    "\n",
    "In this notebook, we will explore how to use decision trees for classification problems using PySpark. Specifically, we will use the famous Iris dataset, which contains information about the physical characteristics of three different types of iris flowers, to build a decision tree model that can predict the type of iris flower based on its features. We will cover the following topics:\n",
    "\n",
    "- Loading and preparing the data\n",
    "- Training a decision tree model using PySpark's MLlib library\n",
    "- Evaluating the model's performance using various metrics\n",
    "- Tuning the model's hyperparameters to improve its performance\n",
    "\n",
    "By the end of this notebook, you should have a good understanding of how decision trees work and how to apply them to real-world classification problems using PySpark."
   ]
  },
  {
   "cell_type": "markdown",
   "id": "3c7b328b-6627-468d-8e80-3c002289aafa",
   "metadata": {
    "tags": []
   },
   "source": [
    "## Introduction\n",
    "\n",
    "### Description of the dataset iris\n",
    "\n",
    "The iris dataset is a classic and widely used dataset in machine learning and statistics. It contains measurements of the sepal length, sepal width, petal length, and petal width for 150 iris flowers, with 50 samples from each of three different species (setosa, versicolor, and virginica). The dataset was first introduced in a 1936 paper by the British statistician and biologist Ronald Fisher, and has since become a popular example for exploring and practicing machine learning algorithms.\n",
    "\n",
    "The iris dataset is often used for classification tasks, as the goal is to predict the species of an iris flower based on its measurements. It is also a good dataset for exploring and visualizing data, as the different species have distinct characteristics that can be easily visualized with scatter plots or other techniques.\n",
    "\n",
    "Overall, the iris dataset is a useful and interesting dataset for anyone working in the fields of machine learning, statistics, or data science.\n",
    "\n",
    "### Importing necessary libraries and download dataset "
   ]
  },
  {
   "cell_type": "code",
   "execution_count": 49,
   "id": "00101d47-390a-4f6e-a889-04bf3bb463ed",
   "metadata": {
    "tags": []
   },
   "outputs": [],
   "source": [
    "from pyspark.sql import SparkSession\n",
    "from pyspark.ml.feature import RFormula\n",
    "from pyspark.ml.feature import MinMaxScaler\n",
    "from pyspark.ml.classification import DecisionTreeClassifier\n",
    "from pyspark.ml import Pipeline\n",
    "from pyspark.ml.evaluation import MulticlassClassificationEvaluator\n"
   ]
  },
  {
   "cell_type": "code",
   "execution_count": 1,
   "id": "8d9946f4-862c-4230-9c10-3aee3661fa8a",
   "metadata": {
    "tags": []
   },
   "outputs": [
    {
     "name": "stdout",
     "output_type": "stream",
     "text": [
      "  % Total    % Received % Xferd  Average Speed   Time    Time     Time  Current\n",
      "                                 Dload  Upload   Total   Spent    Left  Speed\n",
      "100  4551  100  4551    0     0   3355      0  0:00:01  0:00:01 --:--:--  3353\n"
     ]
    }
   ],
   "source": [
    "# download the dataset iris\n",
    "! curl https://archive.ics.uci.edu/ml/machine-learning-databases/iris/iris.data --output iris.csv"
   ]
  },
  {
   "cell_type": "code",
   "execution_count": 6,
   "id": "b56dd382-a862-4dca-8e31-24ad8b8f144d",
   "metadata": {
    "tags": []
   },
   "outputs": [
    {
     "name": "stdout",
     "output_type": "stream",
     "text": [
      "+------------+-----------+------------+-----------+-----------+\n",
      "|sepal_length|sepal_width|petal_length|petal_width|      class|\n",
      "+------------+-----------+------------+-----------+-----------+\n",
      "|         5.1|        3.5|         1.4|        0.2|Iris-setosa|\n",
      "|         4.9|        3.0|         1.4|        0.2|Iris-setosa|\n",
      "|         4.7|        3.2|         1.3|        0.2|Iris-setosa|\n",
      "|         4.6|        3.1|         1.5|        0.2|Iris-setosa|\n",
      "|         5.0|        3.6|         1.4|        0.2|Iris-setosa|\n",
      "+------------+-----------+------------+-----------+-----------+\n",
      "only showing top 5 rows\n",
      "\n"
     ]
    }
   ],
   "source": [
    "# create schema for easy human read \n",
    "schema_iris = 'sepal_length FLOAT, sepal_width FLOAT, petal_length FLOAT, petal_width FLOAT, class STRING'\n",
    "\n",
    "# init SparkSession\n",
    "spark = SparkSession.builder.appName('DecisionTreeClassifier').getOrCreate()\n",
    "# read the csv using pyspark\n",
    "iris = spark.read.csv('./iris.csv', schema=schema_iris, header=False)\n",
    "\n",
    "# print few lines of the dataframe\n",
    "iris.show(5)"
   ]
  },
  {
   "cell_type": "markdown",
   "id": "7e20d388-0a9c-489c-9ee9-4bc8cedb3997",
   "metadata": {},
   "source": [
    "## Exploratory Data Analysis\n",
    "\n",
    "### Summary statistics of the dataset\n",
    "\n",
    "In this section, we will explore the iris datasets giving some statistic description like mean, std, etc."
   ]
  },
  {
   "cell_type": "code",
   "execution_count": 8,
   "id": "8161300b-9cdf-47cd-8fcf-0de8dd0f9b40",
   "metadata": {
    "tags": []
   },
   "outputs": [
    {
     "name": "stdout",
     "output_type": "stream",
     "text": [
      "+-------+------------------+-------------------+------------------+------------------+\n",
      "|summary|      sepal_length|        sepal_width|      petal_length|       petal_width|\n",
      "+-------+------------------+-------------------+------------------+------------------+\n",
      "|  count|               150|                150|               150|               150|\n",
      "|   mean| 5.843333326975505| 3.0540000025431313|3.7586666552225747| 1.198666658103466|\n",
      "| stddev|0.8280661128539085|0.43359431104332985|1.7644204144315179|0.7631607319020202|\n",
      "|    min|               4.3|                2.0|               1.0|               0.1|\n",
      "|    max|               7.9|                4.4|               6.9|               2.5|\n",
      "+-------+------------------+-------------------+------------------+------------------+\n",
      "\n"
     ]
    }
   ],
   "source": [
    "# overview of the dataset\n",
    "iris.select('sepal_length', 'sepal_width', 'petal_length', 'petal_width').describe().show()"
   ]
  },
  {
   "cell_type": "code",
   "execution_count": 9,
   "id": "1eb36c7c-5bc3-4d42-95e0-3b496ddc4094",
   "metadata": {
    "tags": []
   },
   "outputs": [
    {
     "name": "stdout",
     "output_type": "stream",
     "text": [
      "+---------------+\n",
      "|          class|\n",
      "+---------------+\n",
      "| Iris-virginica|\n",
      "|    Iris-setosa|\n",
      "|Iris-versicolor|\n",
      "+---------------+\n",
      "\n"
     ]
    }
   ],
   "source": [
    "# uique classes\n",
    "iris.select('class').distinct().show()"
   ]
  },
  {
   "cell_type": "markdown",
   "id": "6a822450-1daf-44b5-ae5e-2420624d8cdd",
   "metadata": {},
   "source": [
    "## Data Preparation\n",
    "\n",
    "### Splitting the dataset into training and testing sets"
   ]
  },
  {
   "cell_type": "code",
   "execution_count": 55,
   "id": "b906bdcc-557e-44f9-abdf-6687a579ac89",
   "metadata": {
    "tags": []
   },
   "outputs": [],
   "source": [
    "train, test = iris.randomSplit([0.8, 0.2])"
   ]
  },
  {
   "cell_type": "markdown",
   "id": "5a050731-cfe9-4286-bbd0-c3d14e2705ea",
   "metadata": {},
   "source": [
    "### Preprocessing the data (e.g., scaling, normalization, encoding)\n",
    "\n",
    "Here we will use the RFormula to separate and treat the dataframe and the MinMaxScaller"
   ]
  },
  {
   "cell_type": "code",
   "execution_count": 56,
   "id": "59560811-ccfc-4831-8e32-fa7cd3749430",
   "metadata": {
    "tags": []
   },
   "outputs": [
    {
     "name": "stdout",
     "output_type": "stream",
     "text": [
      "+------------+-----------+------------+-----------+-----------+----------------------------------------------------------------------------+-----+\n",
      "|sepal_length|sepal_width|petal_length|petal_width|class      |features                                                                    |label|\n",
      "+------------+-----------+------------+-----------+-----------+----------------------------------------------------------------------------+-----+\n",
      "|4.3         |3.0        |1.1         |0.1        |Iris-setosa|[4.300000190734863,3.0,1.100000023841858,0.10000000149011612]               |0.0  |\n",
      "|4.4         |3.0        |1.3         |0.2        |Iris-setosa|[4.400000095367432,3.0,1.2999999523162842,0.20000000298023224]              |0.0  |\n",
      "|4.4         |3.2        |1.3         |0.2        |Iris-setosa|[4.400000095367432,3.200000047683716,1.2999999523162842,0.20000000298023224]|0.0  |\n",
      "|4.5         |2.3        |1.3         |0.3        |Iris-setosa|[4.5,2.299999952316284,1.2999999523162842,0.30000001192092896]              |0.0  |\n",
      "|4.6         |3.1        |1.5         |0.2        |Iris-setosa|[4.599999904632568,3.0999999046325684,1.5,0.20000000298023224]              |0.0  |\n",
      "+------------+-----------+------------+-----------+-----------+----------------------------------------------------------------------------+-----+\n",
      "only showing top 5 rows\n",
      "\n"
     ]
    }
   ],
   "source": [
    "formula = RFormula(formula='class ~ .', featuresCol='features', labelCol='label')\n",
    "# only to see if everything is ok\n",
    "formula.fit(train).transform(train).show(5, truncate=False)"
   ]
  },
  {
   "cell_type": "code",
   "execution_count": 57,
   "id": "5298c550-66d0-4a6c-be96-23b286d42963",
   "metadata": {
    "tags": []
   },
   "outputs": [
    {
     "name": "stdout",
     "output_type": "stream",
     "text": [
      "+----------------------------------------------------------------------------+----------------------------------------------------------------------------------+\n",
      "|features                                                                    |features_norm                                                                     |\n",
      "+----------------------------------------------------------------------------+----------------------------------------------------------------------------------+\n",
      "|[4.300000190734863,3.0,1.100000023841858,0.10000000149011612]               |[0.0,0.41666665010982157,0.016949156309400068,0.0]                                |\n",
      "|[4.400000095367432,3.0,1.2999999523162842,0.20000000298023224]              |[0.027777752022683674,0.41666665010982157,0.0508474487232362,0.041666667313418455]|\n",
      "|[4.400000095367432,3.200000047683716,1.2999999523162842,0.20000000298023224]|[0.027777752022683674,0.5,0.0508474487232362,0.041666667313418455]                |\n",
      "|[4.5,2.299999952316284,1.2999999523162842,0.30000001192092896]              |[0.05555550404536735,0.12499997516473234,0.0508474487232362,0.08333333773124549]  |\n",
      "|[4.599999904632568,3.0999999046325684,1.5,0.20000000298023224]              |[0.08333325606805102,0.45833327538437546,0.08474576134203633,0.041666667313418455]|\n",
      "+----------------------------------------------------------------------------+----------------------------------------------------------------------------------+\n",
      "only showing top 5 rows\n",
      "\n"
     ]
    }
   ],
   "source": [
    "# IMPORTANT only fit the scaler using the training set\n",
    "temp = formula.fit(train).transform(train)\n",
    "scaler = MinMaxScaler(inputCol='features', outputCol='features_norm')\n",
    "# only to see if everything is ok\n",
    "scaler.fit(temp).transform(temp).select('features', 'features_norm').show(5, truncate=False)"
   ]
  },
  {
   "cell_type": "markdown",
   "id": "cf2aa57f-dc9c-496b-91f5-dfe9661f336a",
   "metadata": {},
   "source": [
    "## Model Training\n",
    "\n",
    "### Building a Decision Tree Classifier model"
   ]
  },
  {
   "cell_type": "code",
   "execution_count": 58,
   "id": "7101cc8d-f563-44b0-bffd-90919d76ea73",
   "metadata": {
    "tags": []
   },
   "outputs": [],
   "source": [
    "# the labelCol will be the as same as labelCol of RFormula and featuresCol will be the same of outputCol of scaler\n",
    "dt = DecisionTreeClassifier(labelCol=\"label\", featuresCol=\"features_norm\")"
   ]
  },
  {
   "cell_type": "code",
   "execution_count": 59,
   "id": "1310b186-6e22-4c6d-b8f2-daf375e3ec6e",
   "metadata": {
    "tags": []
   },
   "outputs": [],
   "source": [
    "# building all together\n",
    "pipeline = Pipeline(stages=[formula, scaler, dt])"
   ]
  },
  {
   "cell_type": "markdown",
   "id": "92432ba5-358b-4d1f-bed8-475bb818426d",
   "metadata": {},
   "source": [
    "### Training the model on the training set"
   ]
  },
  {
   "cell_type": "code",
   "execution_count": 60,
   "id": "0e3243fb-b35b-4bdd-868b-8e329ace09f0",
   "metadata": {
    "tags": []
   },
   "outputs": [],
   "source": [
    "model = pipeline.fit(train)"
   ]
  },
  {
   "cell_type": "markdown",
   "id": "d6c22125-c391-4cc4-b25c-49e52db48664",
   "metadata": {},
   "source": [
    "### Evaluating the performance of the model on the test set "
   ]
  },
  {
   "cell_type": "code",
   "execution_count": 61,
   "id": "81fb7bc3-2a83-44d6-91b6-0a222c98f4bb",
   "metadata": {
    "tags": []
   },
   "outputs": [
    {
     "name": "stdout",
     "output_type": "stream",
     "text": [
      "+------------+-----------+------------+-----------+---------------+--------------------+-----+--------------------+--------------+-------------+----------+\n",
      "|sepal_length|sepal_width|petal_length|petal_width|          class|            features|label|       features_norm| rawPrediction|  probability|prediction|\n",
      "+------------+-----------+------------+-----------+---------------+--------------------+-----+--------------------+--------------+-------------+----------+\n",
      "|         4.4|        2.9|         1.4|        0.2|    Iris-setosa|[4.40000009536743...|  0.0|[0.02777775202268...|[42.0,0.0,0.0]|[1.0,0.0,0.0]|       0.0|\n",
      "|         4.6|        3.2|         1.4|        0.2|    Iris-setosa|[4.59999990463256...|  0.0|[0.08333325606805...|[42.0,0.0,0.0]|[1.0,0.0,0.0]|       0.0|\n",
      "|         4.8|        3.0|         1.4|        0.1|    Iris-setosa|[4.80000019073486...|  0.0|[0.13888889256818...|[42.0,0.0,0.0]|[1.0,0.0,0.0]|       0.0|\n",
      "|         4.9|        2.4|         3.3|        1.0|Iris-versicolor|[4.90000009536743...|  2.0|[0.16666664459087...| [0.0,1.0,0.0]|[0.0,1.0,0.0]|       1.0|\n",
      "|         4.9|        3.1|         1.5|        0.1|    Iris-setosa|[4.90000009536743...|  0.0|[0.16666664459087...|[42.0,0.0,0.0]|[1.0,0.0,0.0]|       0.0|\n",
      "+------------+-----------+------------+-----------+---------------+--------------------+-----+--------------------+--------------+-------------+----------+\n",
      "only showing top 5 rows\n",
      "\n"
     ]
    }
   ],
   "source": [
    "prd = model.transform(test)\n",
    "prd.show(5)"
   ]
  },
  {
   "cell_type": "code",
   "execution_count": 62,
   "id": "dbedd593-76ca-4ffb-8bc7-305c99b3a17f",
   "metadata": {
    "tags": []
   },
   "outputs": [
    {
     "data": {
      "text/plain": [
       "0.9259259259259259"
      ]
     },
     "execution_count": 62,
     "metadata": {},
     "output_type": "execute_result"
    }
   ],
   "source": [
    "evaluator = MulticlassClassificationEvaluator(\n",
    "    labelCol=\"label\", predictionCol=\"prediction\", metricName=\"accuracy\")\n",
    "evaluator.evaluate(prd)"
   ]
  },
  {
   "cell_type": "markdown",
   "id": "2264ad88-d3b0-4dfd-91fc-30d347e34a1b",
   "metadata": {},
   "source": [
    "## Model Tuning and Interpretation\n",
    "\n",
    "### Fine-tuning the model (e.g., hyperparameter tuning)"
   ]
  },
  {
   "cell_type": "code",
   "execution_count": 63,
   "id": "df752371-886b-4729-b2fa-93e6b74ec4c1",
   "metadata": {
    "tags": []
   },
   "outputs": [],
   "source": [
    "# to this I will use the param grid search and selection present in pyspark\n",
    "from pyspark.ml.tuning import ParamGridBuilder\n",
    "from pyspark.ml.tuning import TrainValidationSplit\n",
    "\n",
    "dt_param_builder = (ParamGridBuilder()\n",
    "             .addGrid(dt.maxDepth, [2, 5, 10, 20, 30])\n",
    "             .addGrid(dt.maxBins, [10, 20, 40, 80, 100])\n",
    "             .build())\n",
    "pipeline = Pipeline(stages=[formula, scaler, dt])\n",
    "tvs = TrainValidationSplit(estimator=pipeline, estimatorParamMaps=dt_param_builder, evaluator=evaluator, trainRatio=0.8)"
   ]
  },
  {
   "cell_type": "code",
   "execution_count": 64,
   "id": "b4fce112-0eca-41cf-9848-d156965cbda7",
   "metadata": {
    "tags": []
   },
   "outputs": [],
   "source": [
    "model2 = tvs.fit(train)"
   ]
  },
  {
   "cell_type": "code",
   "execution_count": 65,
   "id": "aaaf1ec7-5df4-4b62-9cb9-996b68b24d12",
   "metadata": {
    "tags": []
   },
   "outputs": [
    {
     "name": "stdout",
     "output_type": "stream",
     "text": [
      "+------------+-----------+------------+-----------+---------------+--------------------+-----+--------------------+--------------+--------------------+----------+\n",
      "|sepal_length|sepal_width|petal_length|petal_width|          class|            features|label|       features_norm| rawPrediction|         probability|prediction|\n",
      "+------------+-----------+------------+-----------+---------------+--------------------+-----+--------------------+--------------+--------------------+----------+\n",
      "|         4.4|        2.9|         1.4|        0.2|    Iris-setosa|[4.40000009536743...|  0.0|[0.02777775202268...|[42.0,0.0,0.0]|       [1.0,0.0,0.0]|       0.0|\n",
      "|         4.6|        3.2|         1.4|        0.2|    Iris-setosa|[4.59999990463256...|  0.0|[0.08333325606805...|[42.0,0.0,0.0]|       [1.0,0.0,0.0]|       0.0|\n",
      "|         4.8|        3.0|         1.4|        0.1|    Iris-setosa|[4.80000019073486...|  0.0|[0.13888889256818...|[42.0,0.0,0.0]|       [1.0,0.0,0.0]|       0.0|\n",
      "|         4.9|        2.4|         3.3|        1.0|Iris-versicolor|[4.90000009536743...|  2.0|[0.16666664459087...|[0.0,4.0,39.0]|[0.0,0.0930232558...|       2.0|\n",
      "|         4.9|        3.1|         1.5|        0.1|    Iris-setosa|[4.90000009536743...|  0.0|[0.16666664459087...|[42.0,0.0,0.0]|       [1.0,0.0,0.0]|       0.0|\n",
      "+------------+-----------+------------+-----------+---------------+--------------------+-----+--------------------+--------------+--------------------+----------+\n",
      "only showing top 5 rows\n",
      "\n"
     ]
    }
   ],
   "source": [
    "prd2 = model2.transform(test)\n",
    "prd2.show(5)"
   ]
  },
  {
   "cell_type": "code",
   "execution_count": 66,
   "id": "19bf49e4-d64b-4b7f-81f4-ef0d0064aa12",
   "metadata": {
    "tags": []
   },
   "outputs": [
    {
     "data": {
      "text/plain": [
       "0.9629629629629629"
      ]
     },
     "execution_count": 66,
     "metadata": {},
     "output_type": "execute_result"
    }
   ],
   "source": [
    "evaluator.evaluate(prd2)"
   ]
  },
  {
   "cell_type": "markdown",
   "id": "2959cb5d-75dd-4bbb-a05e-88ae9977698b",
   "metadata": {},
   "source": [
    "### Interpreting the results of the model "
   ]
  },
  {
   "cell_type": "code",
   "execution_count": 77,
   "id": "ad452364-86db-4234-918a-57dc955010d2",
   "metadata": {
    "tags": []
   },
   "outputs": [
    {
     "data": {
      "image/png": "[encoded data removed]",
      "text/plain": [
       "<Figure size 640x480 with 2 Axes>"
      ]
     },
     "metadata": {},
     "output_type": "display_data"
    }
   ],
   "source": [
    "from sklearn import metrics\n",
    "import matplotlib.pyplot as plt\n",
    "\n",
    "df_prd = prd.select('label', 'prediction').toPandas()\n",
    "cm = metrics.confusion_matrix(df_prd['label'], df_prd['prediction'])\n",
    "cm_display = metrics.ConfusionMatrixDisplay(confusion_matrix = cm, display_labels=['SETOSA','VERSICOLR','VIRGINICA'])\n",
    "cm_display.plot()\n",
    "plt.show()"
   ]
  },
  {
   "cell_type": "code",
   "execution_count": 78,
   "id": "ea34a919-2006-4924-a3c5-ab822538ee7d",
   "metadata": {
    "tags": []
   },
   "outputs": [
    {
     "data": {
      "image/png": "[encoded data removed]",
      "text/plain": [
       "<Figure size 640x480 with 2 Axes>"
      ]
     },
     "metadata": {},
     "output_type": "display_data"
    }
   ],
   "source": [
    "df_prd2 = prd2.select('label', 'prediction').toPandas()\n",
    "cm = metrics.confusion_matrix(df_prd2['label'], df_prd2['prediction'])\n",
    "cm_display = metrics.ConfusionMatrixDisplay(confusion_matrix = cm, display_labels=['SETOSA','VERSICOLR','VIRGINICA'])\n",
    "cm_display.plot()\n",
    "plt.show()"
   ]
  },
  {
   "cell_type": "code",
   "execution_count": null,
   "id": "5edcacf6-6828-47ff-babe-9acf609448c3",
   "metadata": {},
   "outputs": [],
   "source": [
    "spark.stop()"
   ]
  }
 ],
 "metadata": {
  "kernelspec": {
   "display_name": "venv",
   "language": "python",
   "name": "python3"
  },
  "language_info": {
   "codemirror_mode": {
    "name": "ipython",
    "version": 3
   },
   "file_extension": ".py",
   "mimetype": "text/x-python",
   "name": "python",
   "nbconvert_exporter": "python",
   "pygments_lexer": "ipython3",
   "version": "3.12.7"
  }
 },
 "nbformat": 4,
 "nbformat_minor": 5
}
